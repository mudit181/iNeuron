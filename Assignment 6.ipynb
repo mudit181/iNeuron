{
 "cells": [
  {
   "cell_type": "markdown",
   "id": "729e79f4",
   "metadata": {},
   "source": [
    "1. What are escape characters, and how do you use them?"
   ]
  },
  {
   "cell_type": "raw",
   "id": "5013afc3",
   "metadata": {},
   "source": [
    "#Ans.\n",
    "Some extra characters which are not allowed in string can be written by using escape sequence characters.\n",
    "Escape sequence characters are execute by using  \\ (backslash) with another character.\n",
    "eg: \\n,\\t,\\\\,\\' etc"
   ]
  },
  {
   "cell_type": "markdown",
   "id": "73ada86b",
   "metadata": {},
   "source": [
    "2. What do the escape characters n and t stand for?"
   ]
  },
  {
   "cell_type": "code",
   "execution_count": 44,
   "id": "d0c36386",
   "metadata": {},
   "outputs": [
    {
     "name": "stdout",
     "output_type": "stream",
     "text": [
      "mudit\n",
      "bhatt\n",
      "mudit\tbhatt\n"
     ]
    }
   ],
   "source": [
    "#Ans.\n",
    "print('mudit\\nbhatt')   #\\n newline\n",
    "\n",
    "print('mudit\\tbhatt')   #\\t tab\n"
   ]
  },
  {
   "cell_type": "markdown",
   "id": "ae793af5",
   "metadata": {},
   "source": [
    "3. What is the way to include backslash characters in a string?"
   ]
  },
  {
   "cell_type": "code",
   "execution_count": 12,
   "id": "295d0171",
   "metadata": {},
   "outputs": [
    {
     "name": "stdout",
     "output_type": "stream",
     "text": [
      "\\good\\morning\\\n"
     ]
    }
   ],
   "source": [
    "#Ans.\n",
    "print(\"\\\\good\\\\morning\\\\\")   # by using \\\\"
   ]
  },
  {
   "cell_type": "markdown",
   "id": "474d5bf5",
   "metadata": {},
   "source": [
    "4. The string \"Howl's Moving Castle\" is a correct value. Why isn&#39;t the single quote character in the\n",
    "word Howl's not escaped a problem?"
   ]
  },
  {
   "cell_type": "raw",
   "id": "a8afb206",
   "metadata": {},
   "source": [
    "#Ans.\n",
    "\"Howl's Moving Castle\" is palced in between double quotes therefor it wont show any problem."
   ]
  },
  {
   "cell_type": "markdown",
   "id": "fa0088ad",
   "metadata": {},
   "source": [
    "5. How do you write a string of newlines if you don't want to use the n character?"
   ]
  },
  {
   "cell_type": "code",
   "execution_count": 16,
   "id": "d1108878",
   "metadata": {},
   "outputs": [
    {
     "name": "stdout",
     "output_type": "stream",
     "text": [
      "We are living\n",
      "in a country called \n",
      "India\n"
     ]
    }
   ],
   "source": [
    "#Ans.\n",
    "# by using tripel quotes multiline  strings can be written. \n",
    "print('''We are living\n",
    "in a country called      \n",
    "India''')"
   ]
  },
  {
   "cell_type": "markdown",
   "id": "3b43b201",
   "metadata": {},
   "source": [
    "6. What are the values of the given expressions?\n",
    "'Hello,world'[1]\n",
    "'Hello,world'[0:5]\n",
    "'Hello,world'[:5]\n",
    "'Hello,world'[3:]"
   ]
  },
  {
   "cell_type": "code",
   "execution_count": 22,
   "id": "cec68a85",
   "metadata": {},
   "outputs": [
    {
     "data": {
      "text/plain": [
       "'e'"
      ]
     },
     "execution_count": 22,
     "metadata": {},
     "output_type": "execute_result"
    }
   ],
   "source": [
    "#Ans.\n",
    "'Hello,world'[1]"
   ]
  },
  {
   "cell_type": "code",
   "execution_count": 23,
   "id": "88b316de",
   "metadata": {},
   "outputs": [
    {
     "data": {
      "text/plain": [
       "'Hello'"
      ]
     },
     "execution_count": 23,
     "metadata": {},
     "output_type": "execute_result"
    }
   ],
   "source": [
    "'Hello,world'[0:5]"
   ]
  },
  {
   "cell_type": "code",
   "execution_count": 24,
   "id": "144ddf96",
   "metadata": {},
   "outputs": [
    {
     "data": {
      "text/plain": [
       "'Hello'"
      ]
     },
     "execution_count": 24,
     "metadata": {},
     "output_type": "execute_result"
    }
   ],
   "source": [
    "'Hello,world'[:5]"
   ]
  },
  {
   "cell_type": "code",
   "execution_count": 21,
   "id": "4af532a1",
   "metadata": {},
   "outputs": [
    {
     "data": {
      "text/plain": [
       "'lo,world'"
      ]
     },
     "execution_count": 21,
     "metadata": {},
     "output_type": "execute_result"
    }
   ],
   "source": [
    "'Hello,world'[3:]"
   ]
  },
  {
   "cell_type": "markdown",
   "id": "8c642e6d",
   "metadata": {},
   "source": [
    "-------------------------------------------------------------------------------------------------------------------"
   ]
  },
  {
   "cell_type": "markdown",
   "id": "ff348644",
   "metadata": {},
   "source": [
    "7. What are the values of the following expressions?"
   ]
  },
  {
   "cell_type": "markdown",
   "id": "ce5d1040",
   "metadata": {},
   "source": [
    "'Hello'.upper()\n",
    "'Hello'.upper().isupper()\n",
    "'Hello'.upper().lower()"
   ]
  },
  {
   "cell_type": "code",
   "execution_count": 25,
   "id": "735dbc3c",
   "metadata": {},
   "outputs": [
    {
     "data": {
      "text/plain": [
       "'HELLO'"
      ]
     },
     "execution_count": 25,
     "metadata": {},
     "output_type": "execute_result"
    }
   ],
   "source": [
    "'Hello'.upper()"
   ]
  },
  {
   "cell_type": "code",
   "execution_count": 26,
   "id": "6d22d0fa",
   "metadata": {},
   "outputs": [
    {
     "data": {
      "text/plain": [
       "True"
      ]
     },
     "execution_count": 26,
     "metadata": {},
     "output_type": "execute_result"
    }
   ],
   "source": [
    "'Hello'.upper().isupper()"
   ]
  },
  {
   "cell_type": "code",
   "execution_count": 27,
   "id": "d04c5946",
   "metadata": {},
   "outputs": [
    {
     "data": {
      "text/plain": [
       "'hello'"
      ]
     },
     "execution_count": 27,
     "metadata": {},
     "output_type": "execute_result"
    }
   ],
   "source": [
    "'Hello'.upper().lower()"
   ]
  },
  {
   "cell_type": "markdown",
   "id": "c056f95e",
   "metadata": {},
   "source": [
    "8. What are the values of the following expressions?\n",
    "'Remember, remember, the fifth of July.'.split()\n",
    "'-'.join(There can only one'.split())"
   ]
  },
  {
   "cell_type": "code",
   "execution_count": 32,
   "id": "6dae0cc4",
   "metadata": {},
   "outputs": [
    {
     "data": {
      "text/plain": [
       "['Remember,', 'remember,', 'the', 'fifth', 'of', 'July.']"
      ]
     },
     "execution_count": 32,
     "metadata": {},
     "output_type": "execute_result"
    }
   ],
   "source": [
    "#Ans.\n",
    "'Remember, remember, the fifth of July.'.split()\n"
   ]
  },
  {
   "cell_type": "code",
   "execution_count": 33,
   "id": "2e7cb46a",
   "metadata": {},
   "outputs": [
    {
     "data": {
      "text/plain": [
       "'There-can-only-one'"
      ]
     },
     "execution_count": 33,
     "metadata": {},
     "output_type": "execute_result"
    }
   ],
   "source": [
    "'-'.join('There can only one'.split())"
   ]
  },
  {
   "cell_type": "markdown",
   "id": "28a78658",
   "metadata": {},
   "source": [
    "9. What are the methods for right-justifying, left-justifying, and centering a string?"
   ]
  },
  {
   "cell_type": "raw",
   "id": "ff83c9b5",
   "metadata": {},
   "source": [
    "#Ans.\n",
    "rjust() = right-justifying\n",
    "ljust() =  left-justifying\n",
    "center()=  centering"
   ]
  },
  {
   "cell_type": "markdown",
   "id": "21781d78",
   "metadata": {},
   "source": [
    "10. What is the best way to remove whitespace characters from the start or end?"
   ]
  },
  {
   "cell_type": "raw",
   "id": "cd89b62c",
   "metadata": {},
   "source": [
    "#Ans.\n",
    "lstrip() from start\n",
    "and rstrip() from end"
   ]
  }
 ],
 "metadata": {
  "kernelspec": {
   "display_name": "Python 3 (ipykernel)",
   "language": "python",
   "name": "python3"
  },
  "language_info": {
   "codemirror_mode": {
    "name": "ipython",
    "version": 3
   },
   "file_extension": ".py",
   "mimetype": "text/x-python",
   "name": "python",
   "nbconvert_exporter": "python",
   "pygments_lexer": "ipython3",
   "version": "3.9.12"
  }
 },
 "nbformat": 4,
 "nbformat_minor": 5
}
