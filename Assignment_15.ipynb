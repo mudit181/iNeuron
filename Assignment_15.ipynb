{
 "cells": [
  {
   "cell_type": "markdown",
   "id": "94ff51e7",
   "metadata": {},
   "source": [
    "1.How many seconds are in an hour? Use the interactive interpreter as a calculator and multiply the\n",
    "number of seconds in a minute (60) by the number of minutes in an hour (also 60).\n",
    "\n",
    "sol. 60"
   ]
  },
  {
   "cell_type": "code",
   "execution_count": 3,
   "id": "09627eaa",
   "metadata": {},
   "outputs": [
    {
     "data": {
      "text/plain": [
       "3600"
      ]
     },
     "execution_count": 3,
     "metadata": {},
     "output_type": "execute_result"
    }
   ],
   "source": [
    "#Ans.\n",
    "60*60 \n"
   ]
  },
  {
   "cell_type": "markdown",
   "id": "558b7aa9",
   "metadata": {},
   "source": [
    "-----------------------------------------------------"
   ]
  },
  {
   "cell_type": "markdown",
   "id": "ee5f7b28",
   "metadata": {},
   "source": [
    "2. Assign the result from the previous task (seconds in an hour) to a variable called\n",
    "seconds_per_hour."
   ]
  },
  {
   "cell_type": "code",
   "execution_count": 5,
   "id": "82c9b1ca",
   "metadata": {},
   "outputs": [],
   "source": [
    "#Ans.\n",
    "seconds_per_hour = 3600"
   ]
  },
  {
   "cell_type": "markdown",
   "id": "0a784fd2",
   "metadata": {},
   "source": [
    "-------------------------------------------"
   ]
  },
  {
   "cell_type": "markdown",
   "id": "3655d897",
   "metadata": {},
   "source": [
    "3. How many seconds do you think there are in a day? Make use of the variables seconds per hour\n",
    "and minutes per hour."
   ]
  },
  {
   "cell_type": "code",
   "execution_count": 6,
   "id": "25ba1a64",
   "metadata": {},
   "outputs": [
    {
     "data": {
      "text/plain": [
       "86400"
      ]
     },
     "execution_count": 6,
     "metadata": {},
     "output_type": "execute_result"
    }
   ],
   "source": [
    "#Ans.\n",
    "seconds_per_hour * 24   "
   ]
  },
  {
   "cell_type": "markdown",
   "id": "eb1614d0",
   "metadata": {},
   "source": [
    "--------------------------------------------"
   ]
  },
  {
   "cell_type": "markdown",
   "id": "0d4facae",
   "metadata": {},
   "source": [
    "4. Calculate seconds per day again, but this time save the result in a variable called seconds_per_day"
   ]
  },
  {
   "cell_type": "code",
   "execution_count": 7,
   "id": "ede2d1ef",
   "metadata": {},
   "outputs": [
    {
     "data": {
      "text/plain": [
       "86400"
      ]
     },
     "execution_count": 7,
     "metadata": {},
     "output_type": "execute_result"
    }
   ],
   "source": [
    "#Ans.\n",
    "seconds_per_day = seconds_per_hour*24\n",
    "seconds_per_day\n"
   ]
  },
  {
   "cell_type": "markdown",
   "id": "a3f9c94d",
   "metadata": {},
   "source": [
    "------------------------------------"
   ]
  },
  {
   "cell_type": "markdown",
   "id": "227e4b4c",
   "metadata": {},
   "source": [
    "5. Divide seconds_per_day by seconds_per_hour. Use floating-point (/) division."
   ]
  },
  {
   "cell_type": "code",
   "execution_count": 9,
   "id": "c7c8561f",
   "metadata": {},
   "outputs": [
    {
     "data": {
      "text/plain": [
       "24.0"
      ]
     },
     "execution_count": 9,
     "metadata": {},
     "output_type": "execute_result"
    }
   ],
   "source": [
    "#Ans.\n",
    "seconds_per_day / seconds_per_hour"
   ]
  },
  {
   "cell_type": "markdown",
   "id": "d3b5b0dd",
   "metadata": {},
   "source": [
    "-----------------------------"
   ]
  },
  {
   "cell_type": "markdown",
   "id": "5fd21e86",
   "metadata": {},
   "source": [
    "6. Divide seconds_per_day by seconds_per_hour, using integer (//) division. Did this number agree\n",
    "with the floating-point value from the previous question, aside from the final .0?"
   ]
  },
  {
   "cell_type": "code",
   "execution_count": 11,
   "id": "e34c01f3",
   "metadata": {},
   "outputs": [
    {
     "data": {
      "text/plain": [
       "24"
      ]
     },
     "execution_count": 11,
     "metadata": {},
     "output_type": "execute_result"
    }
   ],
   "source": [
    "#Ans.\n",
    "seconds_per_day // seconds_per_hour"
   ]
  },
  {
   "cell_type": "markdown",
   "id": "4b04be1d",
   "metadata": {},
   "source": [
    "--------------------------------"
   ]
  },
  {
   "cell_type": "markdown",
   "id": "150752bb",
   "metadata": {},
   "source": [
    "7. Write a generator, genPrimes, that returns the sequence of prime numbers on successive calls to\n",
    "its next() method: 2, 3, 5, 7, 11, ..."
   ]
  },
  {
   "cell_type": "code",
   "execution_count": 16,
   "id": "69be7311",
   "metadata": {},
   "outputs": [
    {
     "name": "stdout",
     "output_type": "stream",
     "text": [
      "Enter any number for sequential Prime numbers:  30\n",
      "Prime Numbers from 0 to 30\n",
      "0th  position prime number is : 2\n",
      "1th  position prime number is : 3\n",
      "2th  position prime number is : 5\n",
      "3th  position prime number is : 7\n",
      "4th  position prime number is : 11\n",
      "5th  position prime number is : 13\n",
      "6th  position prime number is : 17\n",
      "7th  position prime number is : 19\n",
      "8th  position prime number is : 23\n",
      "9th  position prime number is : 29\n",
      "10th  position prime number is : 31\n",
      "11th  position prime number is : 37\n",
      "12th  position prime number is : 41\n",
      "13th  position prime number is : 43\n",
      "14th  position prime number is : 47\n",
      "15th  position prime number is : 53\n",
      "16th  position prime number is : 59\n",
      "17th  position prime number is : 61\n",
      "18th  position prime number is : 67\n",
      "19th  position prime number is : 71\n",
      "20th  position prime number is : 73\n",
      "21th  position prime number is : 79\n",
      "22th  position prime number is : 83\n",
      "23th  position prime number is : 89\n",
      "24th  position prime number is : 97\n",
      "25th  position prime number is : 101\n",
      "26th  position prime number is : 103\n",
      "27th  position prime number is : 107\n",
      "28th  position prime number is : 109\n",
      "29th  position prime number is : 113\n"
     ]
    }
   ],
   "source": [
    "#Ans.\n",
    "\n",
    "def genPrimes():\n",
    "    \n",
    "    primes = [ 2, 3, 5, 7, 11 ]\n",
    "    \n",
    "    def getPrimeNumbers(n):\n",
    "        if n in primes:\n",
    "            return True\n",
    "        \n",
    "        for i in primes:\n",
    "            if n % i == 0:\n",
    "                return False\n",
    "                \n",
    "        primes.append(n)\n",
    "        return True\n",
    "    num = 1\n",
    "    while True:\n",
    "        num += 1\n",
    "        if getPrimeNumbers(num):\n",
    "            next = num\n",
    "            yield next\n",
    "            num = next\n",
    "\n",
    "# by using genPrime() prime numbe for  n number of  sequence can be obtain.          \n",
    "primeNumber = genPrimes()\n",
    "n= int(input(\"Enter any number for sequential Prime numbers:  \"))  \n",
    "print(f\"Prime Numbers from 0 to {n}\")\n",
    "\n",
    "for i in range(n):\n",
    "    print(f\"{i}th  position prime number is : {primeNumber.__next__()}\")\n"
   ]
  },
  {
   "cell_type": "markdown",
   "id": "3c533ae7",
   "metadata": {},
   "source": [
    "-----------------------------------------"
   ]
  },
  {
   "cell_type": "code",
   "execution_count": null,
   "id": "adbc9044",
   "metadata": {},
   "outputs": [],
   "source": []
  }
 ],
 "metadata": {
  "kernelspec": {
   "display_name": "Python 3 (ipykernel)",
   "language": "python",
   "name": "python3"
  },
  "language_info": {
   "codemirror_mode": {
    "name": "ipython",
    "version": 3
   },
   "file_extension": ".py",
   "mimetype": "text/x-python",
   "name": "python",
   "nbconvert_exporter": "python",
   "pygments_lexer": "ipython3",
   "version": "3.9.12"
  }
 },
 "nbformat": 4,
 "nbformat_minor": 5
}
