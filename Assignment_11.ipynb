{
 "cells": [
  {
   "cell_type": "markdown",
   "id": "dc9103e6",
   "metadata": {},
   "source": [
    "1. Create an assert statement that throws an AssertionError if the variable spam is a negative\n",
    "integer."
   ]
  },
  {
   "cell_type": "code",
   "execution_count": 1,
   "id": "054a8e09",
   "metadata": {},
   "outputs": [
    {
     "ename": "AssertionError",
     "evalue": "spam has negative value",
     "output_type": "error",
     "traceback": [
      "\u001b[1;31m---------------------------------------------------------------------------\u001b[0m",
      "\u001b[1;31mAssertionError\u001b[0m                            Traceback (most recent call last)",
      "Input \u001b[1;32mIn [1]\u001b[0m, in \u001b[0;36m<cell line: 3>\u001b[1;34m()\u001b[0m\n\u001b[0;32m      1\u001b[0m \u001b[38;5;66;03m#Ans.\u001b[39;00m\n\u001b[0;32m      2\u001b[0m spam \u001b[38;5;241m=\u001b[39m \u001b[38;5;241m-\u001b[39m\u001b[38;5;241m20\u001b[39m\n\u001b[1;32m----> 3\u001b[0m \u001b[38;5;28;01massert\u001b[39;00m spam  \u001b[38;5;241m>\u001b[39m \u001b[38;5;241m0\u001b[39m,  \u001b[38;5;124m\"\u001b[39m\u001b[38;5;124mspam has negative value\u001b[39m\u001b[38;5;124m\"\u001b[39m\n",
      "\u001b[1;31mAssertionError\u001b[0m: spam has negative value"
     ]
    }
   ],
   "source": [
    "#Ans.\n",
    "spam = -20\n",
    "assert spam  > 0,  \"spam has negative value\"\n"
   ]
  },
  {
   "cell_type": "markdown",
   "id": "e3959451",
   "metadata": {},
   "source": [
    "---------------------------------------"
   ]
  },
  {
   "cell_type": "markdown",
   "id": "c0974d65",
   "metadata": {},
   "source": [
    "2. Write an assert statement that triggers an AssertionError if the variables eggs and bacon contain\n",
    "strings that are the same as each other, even if their cases are different (that is,  &#39;hello&#39;  and  &#39;hello&#39;  are\n",
    "considered the same, and  &#39;goodbye&#39;  and  &#39;GOODbye&#39;  are also considered the same)."
   ]
  },
  {
   "cell_type": "code",
   "execution_count": 10,
   "id": "661ece23",
   "metadata": {},
   "outputs": [
    {
     "ename": "AssertionError",
     "evalue": "eggs and bacon variables are the same",
     "output_type": "error",
     "traceback": [
      "\u001b[1;31m---------------------------------------------------------------------------\u001b[0m",
      "\u001b[1;31mAssertionError\u001b[0m                            Traceback (most recent call last)",
      "Input \u001b[1;32mIn [10]\u001b[0m, in \u001b[0;36m<cell line: 5>\u001b[1;34m()\u001b[0m\n\u001b[0;32m      2\u001b[0m eggs \u001b[38;5;241m=\u001b[39m  \u001b[38;5;124m'\u001b[39m\u001b[38;5;124mgoodbye\u001b[39m\u001b[38;5;124m'\u001b[39m\n\u001b[0;32m      3\u001b[0m bacon \u001b[38;5;241m=\u001b[39m \u001b[38;5;124m'\u001b[39m\u001b[38;5;124mGOODbye\u001b[39m\u001b[38;5;124m'\u001b[39m\n\u001b[1;32m----> 5\u001b[0m \u001b[38;5;28;01massert\u001b[39;00m eggs \u001b[38;5;241m==\u001b[39m bacon, \u001b[38;5;124m\"\u001b[39m\u001b[38;5;124meggs and bacon variables are the same\u001b[39m\u001b[38;5;124m\"\u001b[39m\n\u001b[0;32m      6\u001b[0m \u001b[38;5;28;01massert\u001b[39;00m eggs\u001b[38;5;241m.\u001b[39mlower() \u001b[38;5;241m!=\u001b[39m bacon\u001b[38;5;241m.\u001b[39mlower(), \u001b[38;5;124m'\u001b[39m\u001b[38;5;124meggs and bacon variables are the same\u001b[39m\u001b[38;5;124m'\u001b[39m \n\u001b[0;32m      7\u001b[0m \u001b[38;5;28;01massert\u001b[39;00m eggs\u001b[38;5;241m.\u001b[39mupper() \u001b[38;5;241m!=\u001b[39m bacon\u001b[38;5;241m.\u001b[39mupper(), \u001b[38;5;124m'\u001b[39m\u001b[38;5;124meggs and bacon variables are the same\u001b[39m\u001b[38;5;124m'\u001b[39m\n",
      "\u001b[1;31mAssertionError\u001b[0m: eggs and bacon variables are the same"
     ]
    }
   ],
   "source": [
    "#Ans.\n",
    "eggs =  'goodbye'\n",
    "bacon = 'GOODbye'\n",
    "\n",
    "assert eggs == bacon, \"eggs and bacon variables are the same\"\n",
    "assert eggs.lower() != bacon.lower(), 'eggs and bacon variables are the same' \n",
    "assert eggs.upper() != bacon.upper(), 'eggs and bacon variables are the same'"
   ]
  },
  {
   "cell_type": "markdown",
   "id": "752d4054",
   "metadata": {},
   "source": [
    "---------------------------------------------------"
   ]
  },
  {
   "cell_type": "markdown",
   "id": "7d961a35",
   "metadata": {},
   "source": [
    "3. Create an assert statement that throws an AssertionError every time."
   ]
  },
  {
   "cell_type": "code",
   "execution_count": 23,
   "id": "5c01b671",
   "metadata": {},
   "outputs": [
    {
     "name": "stdout",
     "output_type": "stream",
     "text": [
      "Max\n"
     ]
    },
    {
     "ename": "AssertionError",
     "evalue": "Invalid name",
     "output_type": "error",
     "traceback": [
      "\u001b[1;31m---------------------------------------------------------------------------\u001b[0m",
      "\u001b[1;31mAssertionError\u001b[0m                            Traceback (most recent call last)",
      "Input \u001b[1;32mIn [23]\u001b[0m, in \u001b[0;36m<cell line: 3>\u001b[1;34m()\u001b[0m\n\u001b[0;32m      1\u001b[0m \u001b[38;5;66;03m#Ans.\u001b[39;00m\n\u001b[0;32m      2\u001b[0m name \u001b[38;5;241m=\u001b[39m \u001b[38;5;28minput\u001b[39m()\n\u001b[1;32m----> 3\u001b[0m \u001b[38;5;28;01massert\u001b[39;00m name \u001b[38;5;241m!=\u001b[39m \u001b[38;5;28mstr\u001b[39m(name) , \u001b[38;5;124m\"\u001b[39m\u001b[38;5;124mInvalid name\u001b[39m\u001b[38;5;124m\"\u001b[39m\n",
      "\u001b[1;31mAssertionError\u001b[0m: Invalid name"
     ]
    }
   ],
   "source": [
    "#Ans.\n",
    "name = input()\n",
    "assert name != str(name) , \"Invalid name\""
   ]
  },
  {
   "cell_type": "markdown",
   "id": "cb748fa5",
   "metadata": {},
   "source": [
    "-----------------------------------"
   ]
  },
  {
   "cell_type": "markdown",
   "id": "78dfefd2",
   "metadata": {},
   "source": [
    "4. What are the two lines that must be present in your software in order to call logging.debug()?"
   ]
  },
  {
   "cell_type": "code",
   "execution_count": 24,
   "id": "3cfd4e9f",
   "metadata": {},
   "outputs": [],
   "source": [
    "#Ans.\n",
    "import logging\n",
    "logging.basicConfig(level=logging.DEBUG,format='%(asctime)s %(levelname)s %(message)s')"
   ]
  },
  {
   "cell_type": "markdown",
   "id": "560e779d",
   "metadata": {},
   "source": [
    "-------"
   ]
  },
  {
   "cell_type": "markdown",
   "id": "a850930f",
   "metadata": {},
   "source": [
    "5. What are the two lines that your program must have in order to have logging.debug() send a\n",
    "logging message to a file named programLog.txt?"
   ]
  },
  {
   "cell_type": "code",
   "execution_count": 25,
   "id": "40f55951",
   "metadata": {},
   "outputs": [],
   "source": [
    "#Ans.\n",
    "import logging\n",
    "logging.basicConfig(filename=\"programLog.txt\", level=logging.DEBUG,format='%(asctime)s %(levelname)s %(message)s')"
   ]
  },
  {
   "cell_type": "markdown",
   "id": "09b9d380",
   "metadata": {},
   "source": [
    "---------------------------"
   ]
  },
  {
   "cell_type": "markdown",
   "id": "13e7b554",
   "metadata": {},
   "source": [
    "6. What are the five levels of logging?"
   ]
  },
  {
   "cell_type": "markdown",
   "id": "52e094f5",
   "metadata": {},
   "source": [
    "#Ans.\n",
    "\n",
    "DEBUG\n",
    "\n",
    "INFO\n",
    "\n",
    "WARNING\n",
    "\n",
    "ERROR\n",
    "\n",
    "CRITICAL"
   ]
  },
  {
   "cell_type": "markdown",
   "id": "d6880910",
   "metadata": {},
   "source": [
    "---------------------------"
   ]
  },
  {
   "cell_type": "markdown",
   "id": "926a696d",
   "metadata": {},
   "source": [
    "7. What line of code would you add to your software to disable all logging messages?"
   ]
  },
  {
   "cell_type": "code",
   "execution_count": 27,
   "id": "d80d1fcb",
   "metadata": {},
   "outputs": [],
   "source": [
    "#Ans.\n",
    "\n",
    "logging.disable(logging.CRITICAL)"
   ]
  },
  {
   "cell_type": "markdown",
   "id": "767733b5",
   "metadata": {},
   "source": [
    "----------------------------"
   ]
  },
  {
   "cell_type": "markdown",
   "id": "8df49827",
   "metadata": {},
   "source": [
    "8.Why is using logging messages better than using print() to display the same message?"
   ]
  },
  {
   "cell_type": "markdown",
   "id": "77189fac",
   "metadata": {},
   "source": [
    "#Ans.\n",
    "\n",
    "Logging allow you to display log message depends upon the levels also it allows the log message to be use in different files while print statements does not efficient in such matters.\n",
    "log messages come with the advantage of date and timestamp also."
   ]
  },
  {
   "cell_type": "markdown",
   "id": "acaa33b4",
   "metadata": {},
   "source": [
    "------------------------"
   ]
  },
  {
   "cell_type": "markdown",
   "id": "83c4ce63",
   "metadata": {},
   "source": [
    "9. What are the differences between the Step Over, Step In, and Step Out buttons in the debugger?"
   ]
  },
  {
   "cell_type": "markdown",
   "id": "e7ea9a48",
   "metadata": {},
   "source": [
    "#Ans.\n",
    "\n",
    "Step into button is use for the step by step analysis in the debugger.\n",
    "\n",
    "step over button program quickly execute the function call without stepping into it.\n",
    "\n",
    "step out lets the application execute until the currently executed operation implementation is returned.\n"
   ]
  },
  {
   "cell_type": "markdown",
   "id": "eb380128",
   "metadata": {},
   "source": [
    "------------------------------"
   ]
  },
  {
   "cell_type": "markdown",
   "id": "c11d0a79",
   "metadata": {},
   "source": [
    "10.After you click Continue, when will the debugger stop"
   ]
  },
  {
   "cell_type": "markdown",
   "id": "2ab1dda1",
   "metadata": {},
   "source": [
    "#Ans.\n",
    "\n",
    "After you click Continue, the debugger will stop when it has reached the end of the program or a line with a breakpoint.\n",
    "\n"
   ]
  },
  {
   "cell_type": "markdown",
   "id": "3a3dfffa",
   "metadata": {},
   "source": [
    "------------------------------"
   ]
  },
  {
   "cell_type": "markdown",
   "id": "9fab19be",
   "metadata": {},
   "source": [
    "11. What is the concept of a breakpoint?"
   ]
  },
  {
   "cell_type": "markdown",
   "id": "9d24a10a",
   "metadata": {},
   "source": [
    "#Ans.\n",
    "\n",
    "Breakpoint is a setting on a line of code that causes the debugger to pause when the program execution reaches the line"
   ]
  },
  {
   "cell_type": "code",
   "execution_count": null,
   "id": "45132816",
   "metadata": {},
   "outputs": [],
   "source": []
  }
 ],
 "metadata": {
  "kernelspec": {
   "display_name": "Python 3 (ipykernel)",
   "language": "python",
   "name": "python3"
  },
  "language_info": {
   "codemirror_mode": {
    "name": "ipython",
    "version": 3
   },
   "file_extension": ".py",
   "mimetype": "text/x-python",
   "name": "python",
   "nbconvert_exporter": "python",
   "pygments_lexer": "ipython3",
   "version": "3.9.12"
  }
 },
 "nbformat": 4,
 "nbformat_minor": 5
}
