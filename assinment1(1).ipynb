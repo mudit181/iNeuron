{
 "cells": [
  {
   "cell_type": "raw",
   "id": "a1de84b2",
   "metadata": {},
   "source": [
    "1. In the below elements which of them are values or an expression? eg:- values can be\n",
    "integer or string and expressions will be mathematical operators.\n",
    "\n",
    "Ans.\n",
    "\n",
    " *     = (it's an expression represent multliplication) \n",
    "\n",
    "'hello'= string value.\n",
    "\n",
    "-87.8 = float value.\n",
    "          \n",
    "-      = (it's an expression represents substrsction)\n",
    "          \n",
    "/      = (it's an expression represents division)\n",
    "          \n",
    "+      =  (it's an expression represents addition)\n",
    "           \n",
    "6      =  integer value."
   ]
  },
  {
   "cell_type": "raw",
   "id": "3a6d5a99",
   "metadata": {},
   "source": [
    "2. What is the difference between string and variable?\n",
    "\n",
    "Ans.\n",
    "String is a datatype where as a variable is name given to memory location in a program.\n",
    "variable act as containers to store the data.\n",
    "example:  \n",
    "    a= \"mudit\"\n",
    "    b = 20\n",
    "a and b are variable which contains string and integer datatype respectively.\n",
    "    "
   ]
  },
  {
   "cell_type": "raw",
   "id": "8b88c892",
   "metadata": {},
   "source": [
    "3. Describe three different data types.\n",
    "\n",
    "Ans. \n",
    "Three different data types are:\n",
    "Integer = \"mudt\", \"1\", \"###\" ( any text inside \"\"or''or''' ''')\n",
    "string  =  1, 23, 444, 675678 ( any whole number)\n",
    "floating point = 2.1, 4.66, 1862.3 (any number with decimal)\n"
   ]
  },
  {
   "cell_type": "raw",
   "id": "59a6f422",
   "metadata": {},
   "source": [
    "4. What is an expression made up of? What do all expressions do?\n",
    "\n",
    "Ans.\n",
    "a + b = c\n",
    "an expression is a combination of  values or operands (like: a & b) with operators (like: + & =).\n",
    "all expression give result to a single value. (like: c )\n"
   ]
  },
  {
   "cell_type": "raw",
   "id": "308e5b0e",
   "metadata": {},
   "source": [
    "5. This assignment statements, like spam = 10. What is the difference between an expression and a statement?\n",
    "\n",
    "Ans.\n",
    "spam = 10\n",
    "an expression always evaluate into a valued result, it is indipendent of any other commands  to return the value\n",
    "while statement its self does not return the value, it need some function to return the value like print().\n",
    "\n",
    "\n"
   ]
  },
  {
   "cell_type": "code",
   "execution_count": 27,
   "id": "4860fbd4",
   "metadata": {},
   "outputs": [
    {
     "data": {
      "text/plain": [
       "23"
      ]
     },
     "execution_count": 27,
     "metadata": {},
     "output_type": "execute_result"
    }
   ],
   "source": [
    "# 6. After running the following code, what does the variable bacon contain?\n",
    "bacon = 22\n",
    "bacon +1\n"
   ]
  },
  {
   "cell_type": "raw",
   "id": "1fd3127d",
   "metadata": {},
   "source": [
    " 7. What should the values of the following two terms be?\n",
    "'spam' + 'spamspam' = 'spamspamspam'\n",
    "'spam' * 3 = 'spamspamspam'\n"
   ]
  },
  {
   "cell_type": "raw",
   "id": "cc3ab0fe",
   "metadata": {},
   "source": [
    "8. Why is eggs a valid variable name while 100 is invalid?\n",
    "Ans.\n",
    "The most important rule of naming a variable is that it should always be start with alphabet or underscore(_)\n",
    "therefor:\n",
    "egg=100 (is a valid variable )\n",
    "100=egg (is invalid variable expression)"
   ]
  },
  {
   "cell_type": "raw",
   "id": "2efbe896",
   "metadata": {},
   "source": [
    "9. What three functions can be used to get the integer, floating-point number, or string version of a value?\n",
    "Ans.\n",
    "int()    =(for integer)\n",
    "float()  =(for floting point number)  \n",
    "str()    =(for string)"
   ]
  },
  {
   "cell_type": "raw",
   "id": "04bead2b",
   "metadata": {},
   "source": [
    "# 10. Why does this expression cause an error? How can you fix it?\n",
    "'I have eaten ' + 99 + ' burritos.'\n",
    "Ans.\n",
    "because 99 is an integer, and only string values are alow to concatenate with each other.\n"
   ]
  },
  {
   "cell_type": "code",
   "execution_count": 26,
   "id": "6ca95a90",
   "metadata": {},
   "outputs": [
    {
     "data": {
      "text/plain": [
       "'I have eaten 99 burritos.'"
      ]
     },
     "execution_count": 26,
     "metadata": {},
     "output_type": "execute_result"
    }
   ],
   "source": [
    "'I have eaten ' + str(99)  + ' burritos.'"
   ]
  },
  {
   "cell_type": "code",
   "execution_count": null,
   "id": "b5d93d90",
   "metadata": {},
   "outputs": [],
   "source": []
  }
 ],
 "metadata": {
  "kernelspec": {
   "display_name": "Python 3 (ipykernel)",
   "language": "python",
   "name": "python3"
  },
  "language_info": {
   "codemirror_mode": {
    "name": "ipython",
    "version": 3
   },
   "file_extension": ".py",
   "mimetype": "text/x-python",
   "name": "python",
   "nbconvert_exporter": "python",
   "pygments_lexer": "ipython3",
   "version": "3.9.12"
  }
 },
 "nbformat": 4,
 "nbformat_minor": 5
}
