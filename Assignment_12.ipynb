{
 "cells": [
  {
   "cell_type": "markdown",
   "id": "d718d384",
   "metadata": {},
   "source": [
    "1. In what modes should the PdfFileReader() and PdfFileWriter() File objects will be opened?"
   ]
  },
  {
   "cell_type": "raw",
   "id": "f8c6b302",
   "metadata": {},
   "source": [
    "#Ans.\n",
    "import PyPDF2\n",
    "These files will be opened in binary mode.,\n",
    "read binary (rb) for PdfFileREader() and write binary (wb) PdfFileWriter()\n",
    "\n",
    "PyPDF2.PdfFileWriter()\n",
    "open('.pdf', 'rb')\n",
    "\n",
    "PyPDF2.PdfFileWriter()\n",
    "open('.pdf', 'wb')"
   ]
  },
  {
   "cell_type": "markdown",
   "id": "25f03304",
   "metadata": {},
   "source": [
    "-----------------------------------------------"
   ]
  },
  {
   "cell_type": "markdown",
   "id": "22c5145e",
   "metadata": {},
   "source": [
    "2. From a PdfFileReader object, how do you get a Page object for page 5?"
   ]
  },
  {
   "cell_type": "code",
   "execution_count": 9,
   "id": "03f3cfc1",
   "metadata": {},
   "outputs": [
    {
     "data": {
      "text/plain": [
       "'5 \\n chemical properties, soil types and climate control on soil formation, Cation \\nexchange capacity and mineralogical controls.  \\nGeochemical classification of elements, abundance of elements in bulk earth, \\ncrust, hydrosphere and biosphere. Partitioning of elements during surficial \\ngeologic processes, Geochemical recycling of elements. Paleoclimate .   \\nDistribution of water in earth, hydrology and hydrogeology, major basins \\nand groundwater provi nces of India, Darcy’s law and its validity, \\ngroundwater fluctuations, hydraulic conductivity, groundwater tracers, land \\nsubsidence, effects of excessive use of groundwater, groundwater quality. \\nPollution of groundwater resources, Ghyben -Herzberg relation between \\nfresh -saline water.  \\nNatural resource exploration and exploitation and related environmental \\nconcerns. Historical perspective and conservation of non -renewable \\nresources.  \\nNatural  Hazards:  Catastrophic  geological hazards  - floods, landslides, \\nearth quakes, volcanism , avalanche , tsunami and cloud bursts . Prediction of \\nhazards and mitigation of their impacts.  \\nUnit -V: Energy and Environment  \\nSun as source of energy; solar radiation and its spectra l characteristics. \\nFossil fuels: classification, composit ion, physico -chemical characteristics \\nand energy content of coal, petroleum and natural gas.  Shale oil, Coal bed \\nMethane, Gas hydrates. Gross -calorific value and net -calorific value.   \\nPrinciples of generation of hydro -power, tidal energy, ocean thermal ene rgy \\nconversion, wind power, geothermal energy, solar energy  (solar collectors, \\nphoto -voltaic  modules , solar ponds ).  \\nNuclear energy  - fission and fusion , Nuclear fuels, Nuclear reactor – \\nprinciples and types .  \\nBioenergy : methods to produce energy from biom ass. \\nEnvironmental implications of energy use; energy use pattern in India and \\nthe world, emissions of CO 2 in developed and developing countries '"
      ]
     },
     "execution_count": 9,
     "metadata": {},
     "output_type": "execute_result"
    }
   ],
   "source": [
    "#Ans. \n",
    "# Calling getPage(4) will return a Page object for page 5 as page 0 is the first page\n",
    "import PyPDF2 as pdf\n",
    "pdfFileObj = open(\"Environmental Science.pdf\",'rb')\n",
    "pdfReader = pdf.PdfFileReader(pdfFileObj)\n",
    "pageObj = pdfReader.getPage(4)\n",
    "pageObj.extractText()"
   ]
  },
  {
   "cell_type": "markdown",
   "id": "d17de468",
   "metadata": {},
   "source": [
    "-----------------------------"
   ]
  },
  {
   "cell_type": "markdown",
   "id": "fec5a16f",
   "metadata": {},
   "source": [
    "3. What PdfFileReader variable stores the number of pages in the PDF document?"
   ]
  },
  {
   "cell_type": "code",
   "execution_count": 10,
   "id": "dfff2637",
   "metadata": {},
   "outputs": [
    {
     "data": {
      "text/plain": [
       "10"
      ]
     },
     "execution_count": 10,
     "metadata": {},
     "output_type": "execute_result"
    }
   ],
   "source": [
    "# The total number of pages in the document is stored in the numPages variable of a PdfFileReader object.\n",
    "import PyPDF2 as pdf\n",
    "pdfFileObj = open(\"Environmental Science.pdf\",'rb')\n",
    "pdfReader = pdf.PdfFileReader(pdfFileObj)\n",
    "pdfReader.numPages"
   ]
  },
  {
   "cell_type": "markdown",
   "id": "7ddc8b88",
   "metadata": {},
   "source": [
    "--------------------------------"
   ]
  },
  {
   "cell_type": "markdown",
   "id": "6809b8bf",
   "metadata": {},
   "source": [
    "4. If a PdfFileReader object’s PDF is encrypted with the password swordfish, what must you do\n",
    "before you can obtain Page objects from it?"
   ]
  },
  {
   "cell_type": "raw",
   "id": "a47ff1ca",
   "metadata": {},
   "source": [
    "#Ans.\n",
    "To read an encrypted PDF, call the decrypt(). After we call decrypt() with the correct password, you’ll see that calling getPage() no longer causes an error. \n",
    "Call decrypt('swordfish')."
   ]
  },
  {
   "cell_type": "markdown",
   "id": "31ee5ab9",
   "metadata": {},
   "source": [
    "------------------------------"
   ]
  },
  {
   "cell_type": "markdown",
   "id": "38b61eb5",
   "metadata": {},
   "source": [
    "5. What methods do you use to rotate a page?"
   ]
  },
  {
   "cell_type": "raw",
   "id": "9dc1b284",
   "metadata": {},
   "source": [
    "#Ans.\n",
    "pageObj.rotateClockwise(180)\n",
    "pageObj.rotateCounterClockwise(180) #180 is degree of rotation."
   ]
  },
  {
   "cell_type": "markdown",
   "id": "e82e665a",
   "metadata": {},
   "source": [
    "--------------------------------------"
   ]
  },
  {
   "cell_type": "markdown",
   "id": "12eac1a8",
   "metadata": {},
   "source": [
    "6. What is the difference between a Run object and a Paragraph object?"
   ]
  },
  {
   "cell_type": "raw",
   "id": "9eb48570",
   "metadata": {},
   "source": [
    "#Ans.\n",
    "Paragraph object=A document contains multiple paragraphs. A paragraph begins on a new line and contains multiple runs. \n",
    "Run object=Runs are contiguous groups of charecters within a paragraph."
   ]
  },
  {
   "cell_type": "markdown",
   "id": "70faf867",
   "metadata": {},
   "source": [
    "7. How do you obtain a list of Paragraph objects for a Document object that’s stored in a variable\n",
    "named doc?"
   ]
  },
  {
   "cell_type": "code",
   "execution_count": 13,
   "id": "8bb19791",
   "metadata": {},
   "outputs": [
    {
     "name": "stdout",
     "output_type": "stream",
     "text": [
      "Collecting python-docx\n",
      "  Downloading python-docx-0.8.11.tar.gz (5.6 MB)\n",
      "Requirement already satisfied: lxml>=2.3.2 in c:\\users\\admin\\anaconda3\\lib\\site-packages (from python-docx) (4.8.0)\n",
      "Building wheels for collected packages: python-docx\n",
      "  Building wheel for python-docx (setup.py): started\n",
      "  Building wheel for python-docx (setup.py): finished with status 'done'\n",
      "  Created wheel for python-docx: filename=python_docx-0.8.11-py3-none-any.whl size=184507 sha256=ae4c13735a3d2b8db03281f846ed3220bd6613ec82dbed43509b4838b2a1c1f1\n",
      "  Stored in directory: c:\\users\\admin\\appdata\\local\\pip\\cache\\wheels\\83\\8b\\7c\\09ae60c42c7ba4ed2dddaf2b8b9186cb105255856d6ed3dba5\n",
      "Successfully built python-docx\n",
      "Installing collected packages: python-docx\n",
      "Successfully installed python-docx-0.8.11\n",
      "Note: you may need to restart the kernel to use updated packages.\n"
     ]
    }
   ],
   "source": [
    "pip install python-docx"
   ]
  },
  {
   "cell_type": "code",
   "execution_count": 16,
   "id": "294d4f8c",
   "metadata": {},
   "outputs": [
    {
     "data": {
      "text/plain": [
       "[<docx.text.paragraph.Paragraph at 0x1afa1c5dd60>,\n",
       " <docx.text.paragraph.Paragraph at 0x1afa1c5dbe0>]"
      ]
     },
     "execution_count": 16,
     "metadata": {},
     "output_type": "execute_result"
    }
   ],
   "source": [
    "import docx\n",
    "doc = docx.Document('My name.docx')\n",
    "doc.paragraphs\n",
    "#By using doc.paragraphs"
   ]
  },
  {
   "cell_type": "markdown",
   "id": "71cc57e8",
   "metadata": {},
   "source": [
    "----------------------------"
   ]
  },
  {
   "cell_type": "markdown",
   "id": "e81752dd",
   "metadata": {},
   "source": [
    "8. What type of object has bold, underline, italic, strike, and outline variables?"
   ]
  },
  {
   "cell_type": "raw",
   "id": "8802865f",
   "metadata": {},
   "source": [
    "#Ans.\n",
    "Run Object"
   ]
  },
  {
   "cell_type": "markdown",
   "id": "4d27f436",
   "metadata": {},
   "source": [
    "----------------------------"
   ]
  },
  {
   "cell_type": "markdown",
   "id": "968c9b2e",
   "metadata": {},
   "source": [
    "9. What is the difference between False, True, and None for the bold variable?"
   ]
  },
  {
   "cell_type": "raw",
   "id": "31de6875",
   "metadata": {},
   "source": [
    "#Ans.\n",
    "True always makes the run object bolded\n",
    "False makes it always not bolded, no matter what the style's bold settings is.\n",
    "None will make the Run object just use the style's bold settings."
   ]
  },
  {
   "cell_type": "markdown",
   "id": "4abc0d0c",
   "metadata": {},
   "source": [
    "--------------------"
   ]
  },
  {
   "cell_type": "markdown",
   "id": "0af4568c",
   "metadata": {},
   "source": [
    "10. How do you create a Document object for a new Word document?"
   ]
  },
  {
   "cell_type": "raw",
   "id": "9409d139",
   "metadata": {},
   "source": [
    "#Ans.\n",
    "\n",
    "By Calling the docx.Document() function."
   ]
  },
  {
   "cell_type": "markdown",
   "id": "8a0c63a5",
   "metadata": {},
   "source": [
    "-----------------------------"
   ]
  },
  {
   "cell_type": "markdown",
   "id": "d7db97d0",
   "metadata": {},
   "source": [
    "11. How do you add a paragraph with the text &#39;Hello, there!&#39; to a Document object stored in a\n",
    "variable named doc?"
   ]
  },
  {
   "cell_type": "code",
   "execution_count": 17,
   "id": "0a605e33",
   "metadata": {},
   "outputs": [],
   "source": [
    "#Ans.\n",
    "import docx\n",
    "doc = docx.Document()\n",
    "\n",
    "doc.add_paragraph('Hello there!')\n",
    "doc.save('hellothere.docx')"
   ]
  },
  {
   "cell_type": "markdown",
   "id": "ca0a458a",
   "metadata": {},
   "source": [
    "--------------------"
   ]
  },
  {
   "cell_type": "markdown",
   "id": "3b46f5bc",
   "metadata": {},
   "source": [
    "12. What integers represent the levels of headings available in Word documents?"
   ]
  },
  {
   "cell_type": "markdown",
   "id": "3882e204",
   "metadata": {},
   "source": [
    "#Ans.\n",
    "\n",
    "integer from 0 to 4\n",
    "\n",
    "The arguments to add_heading() are a string of the heading text and an integer from 0 to 4. The integer 0 makes the heading the Title style, which is used for the top of the document. Integers 1 to 4 are for various heading levels, with 1 being the main heading and 4 the lowest subheading"
   ]
  },
  {
   "cell_type": "markdown",
   "id": "0a2e6965",
   "metadata": {},
   "source": [
    "------------------------"
   ]
  },
  {
   "cell_type": "code",
   "execution_count": null,
   "id": "6bcef3a6",
   "metadata": {},
   "outputs": [],
   "source": []
  }
 ],
 "metadata": {
  "kernelspec": {
   "display_name": "Python 3 (ipykernel)",
   "language": "python",
   "name": "python3"
  },
  "language_info": {
   "codemirror_mode": {
    "name": "ipython",
    "version": 3
   },
   "file_extension": ".py",
   "mimetype": "text/x-python",
   "name": "python",
   "nbconvert_exporter": "python",
   "pygments_lexer": "ipython3",
   "version": "3.9.12"
  }
 },
 "nbformat": 4,
 "nbformat_minor": 5
}
