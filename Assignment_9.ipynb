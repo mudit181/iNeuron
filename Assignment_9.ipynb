{
 "cells": [
  {
   "cell_type": "markdown",
   "id": "e3e1a425",
   "metadata": {},
   "source": [
    "1. To what does a relative path refer?"
   ]
  },
  {
   "cell_type": "raw",
   "id": "3672acbe",
   "metadata": {},
   "source": [
    "#Ans.\n",
    "Relative path refer to current working directory."
   ]
  },
  {
   "cell_type": "markdown",
   "id": "01c20a99",
   "metadata": {},
   "source": [
    "------"
   ]
  },
  {
   "cell_type": "markdown",
   "id": "399b48ee",
   "metadata": {},
   "source": [
    "2. What does an absolute path start with your operating system?"
   ]
  },
  {
   "cell_type": "raw",
   "id": "995c6416",
   "metadata": {},
   "source": [
    "#Ans.\n",
    "Absolute path is that which contains the entire path to the file or directory that you need to access.\n",
    "An absolute paths start with the root folder, such as / or C: drive of your system."
   ]
  },
  {
   "cell_type": "code",
   "execution_count": 7,
   "id": "2d55b5ce",
   "metadata": {},
   "outputs": [
    {
     "data": {
      "text/plain": [
       "'C:\\\\Users\\\\Admin'"
      ]
     },
     "execution_count": 7,
     "metadata": {},
     "output_type": "execute_result"
    }
   ],
   "source": [
    "pwd"
   ]
  },
  {
   "cell_type": "markdown",
   "id": "9b49d576",
   "metadata": {},
   "source": [
    "------"
   ]
  },
  {
   "cell_type": "markdown",
   "id": "b43e222b",
   "metadata": {},
   "source": [
    "3. What do the functions os.getcwd() and os.chdir() do?"
   ]
  },
  {
   "cell_type": "code",
   "execution_count": 10,
   "id": "0e5d928e",
   "metadata": {},
   "outputs": [
    {
     "data": {
      "text/plain": [
       "'C:\\\\Users\\\\Admin'"
      ]
     },
     "execution_count": 10,
     "metadata": {},
     "output_type": "execute_result"
    }
   ],
   "source": [
    "#Ans.\n",
    "import os\n",
    "# The os.getcwd() function returns the current working directory. \n",
    "# The os.chdir() function changes the current working directory.\n",
    "os.getcwd()"
   ]
  },
  {
   "cell_type": "markdown",
   "id": "b9784463",
   "metadata": {},
   "source": [
    "---------"
   ]
  },
  {
   "cell_type": "markdown",
   "id": "e4aa86b9",
   "metadata": {},
   "source": [
    "4. What are the . and .. folders?"
   ]
  },
  {
   "cell_type": "raw",
   "id": "9b369d03",
   "metadata": {},
   "source": [
    "#Ans.\n",
    "The . folder is the current folder, and .. is the parent folder"
   ]
  },
  {
   "cell_type": "markdown",
   "id": "364d05ed",
   "metadata": {},
   "source": [
    "-----------------------"
   ]
  },
  {
   "cell_type": "markdown",
   "id": "6f5ed2ba",
   "metadata": {},
   "source": [
    "5. In C:\\bacon\\eggs\\spam.txt, which part is the dir name, and which part is the base name?"
   ]
  },
  {
   "cell_type": "raw",
   "id": "b3442590",
   "metadata": {},
   "source": [
    "#Ans.\n",
    "C:\\bacon\\eggs is the dir name.\n",
    "spam.txt is the base name."
   ]
  },
  {
   "cell_type": "markdown",
   "id": "f2ceadb0",
   "metadata": {},
   "source": [
    "------------------------------"
   ]
  },
  {
   "cell_type": "markdown",
   "id": "61c2f50f",
   "metadata": {},
   "source": [
    "6. What are the three “mode” arguments that can be passed to the open() function?"
   ]
  },
  {
   "cell_type": "raw",
   "id": "83ca735e",
   "metadata": {},
   "source": [
    "#Ans.\n",
    "'r' --> open for reading\n",
    "'w' --> open for writing\n",
    "'a' --> open for uppending"
   ]
  },
  {
   "cell_type": "markdown",
   "id": "97566c28",
   "metadata": {},
   "source": [
    "--------------------------------"
   ]
  },
  {
   "cell_type": "markdown",
   "id": "eae4c82e",
   "metadata": {},
   "source": [
    "7. What happens if an existing file is opened in write mode?"
   ]
  },
  {
   "cell_type": "raw",
   "id": "acf562ab",
   "metadata": {},
   "source": [
    "#Ans.\n",
    "Existing file data will get deleted and new data will be overwritten."
   ]
  },
  {
   "cell_type": "markdown",
   "id": "2c6b5c67",
   "metadata": {},
   "source": [
    "--------------------------------------"
   ]
  },
  {
   "cell_type": "markdown",
   "id": "07a55451",
   "metadata": {},
   "source": [
    "8. How do you tell the difference between read() and readlines()?"
   ]
  },
  {
   "cell_type": "raw",
   "id": "4b999ffd",
   "metadata": {},
   "source": [
    "#Ans.\n",
    "readlines() function return one full line at a time.\n",
    "read() function will return the complete file as a string."
   ]
  },
  {
   "cell_type": "markdown",
   "id": "779647c2",
   "metadata": {},
   "source": [
    "-------------------------------------"
   ]
  },
  {
   "cell_type": "markdown",
   "id": "773b857a",
   "metadata": {},
   "source": [
    "9. What data structure does a shelf value resemble?"
   ]
  },
  {
   "cell_type": "raw",
   "id": "64c60250",
   "metadata": {},
   "source": [
    "#Ans.\n",
    "The shelf class is the base class from the Shelve Module\n",
    "A shelf value resembles a dictionary value; it has keys and values, along with keys() and values() methods that work similarly to the dictionary methods of the same names."
   ]
  },
  {
   "cell_type": "markdown",
   "id": "a0671b05",
   "metadata": {},
   "source": [
    "----------------------------------"
   ]
  }
 ],
 "metadata": {
  "kernelspec": {
   "display_name": "Python 3 (ipykernel)",
   "language": "python",
   "name": "python3"
  },
  "language_info": {
   "codemirror_mode": {
    "name": "ipython",
    "version": 3
   },
   "file_extension": ".py",
   "mimetype": "text/x-python",
   "name": "python",
   "nbconvert_exporter": "python",
   "pygments_lexer": "ipython3",
   "version": "3.9.12"
  }
 },
 "nbformat": 4,
 "nbformat_minor": 5
}
