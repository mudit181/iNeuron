{
 "cells": [
  {
   "cell_type": "markdown",
   "id": "2aee8b4c",
   "metadata": {},
   "source": [
    "1. Add the current date to the text file today.txt as a string."
   ]
  },
  {
   "cell_type": "code",
   "execution_count": 7,
   "id": "575347a4",
   "metadata": {},
   "outputs": [],
   "source": [
    "import datetime\n",
    "from datetime import date\n",
    "now = date.today()\n",
    "current_date = now.isoformat()\n",
    "with open('today.txt','w') as file:\n",
    "    file.write(current_date)\n"
   ]
  },
  {
   "cell_type": "markdown",
   "id": "f3428812",
   "metadata": {},
   "source": [
    "-------------------"
   ]
  },
  {
   "cell_type": "markdown",
   "id": "4dbcb92e",
   "metadata": {},
   "source": [
    "2. Read the text file today.txt into the string today_string\n"
   ]
  },
  {
   "cell_type": "code",
   "execution_count": 8,
   "id": "adb20797",
   "metadata": {},
   "outputs": [
    {
     "data": {
      "text/plain": [
       "'2022-10-29'"
      ]
     },
     "execution_count": 8,
     "metadata": {},
     "output_type": "execute_result"
    }
   ],
   "source": [
    "with open('today.txt','r') as file:\n",
    "    today_string = file.read()\n",
    "today_string"
   ]
  },
  {
   "cell_type": "markdown",
   "id": "465ecc53",
   "metadata": {},
   "source": [
    "-------------------"
   ]
  },
  {
   "cell_type": "markdown",
   "id": "0b426fa6",
   "metadata": {},
   "source": [
    "3. Parse the date from today_string.\n"
   ]
  },
  {
   "cell_type": "code",
   "execution_count": 9,
   "id": "2ea1a4ba",
   "metadata": {},
   "outputs": [
    {
     "data": {
      "text/plain": [
       "datetime.datetime(2022, 10, 29, 0, 0)"
      ]
     },
     "execution_count": 9,
     "metadata": {},
     "output_type": "execute_result"
    }
   ],
   "source": [
    "from datetime import datetime\n",
    "format = '%Y-%m-%d'\n",
    "datetime.strptime(today_string, format)"
   ]
  },
  {
   "cell_type": "markdown",
   "id": "92ae0332",
   "metadata": {},
   "source": [
    "-----------------------"
   ]
  },
  {
   "cell_type": "markdown",
   "id": "8ce6cc24",
   "metadata": {},
   "source": [
    "4. List the files in your current directory\n"
   ]
  },
  {
   "cell_type": "code",
   "execution_count": 10,
   "id": "22df74fa",
   "metadata": {},
   "outputs": [
    {
     "data": {
      "text/plain": [
       "[' Assignment_20.ipynb',\n",
       " '.accessibility.properties',\n",
       " '.anaconda',\n",
       " '.bash_history',\n",
       " '.conda',\n",
       " '.condarc',\n",
       " '.continuum',\n",
       " '.idlerc',\n",
       " '.ipynb_checkpoints',\n",
       " '.ipython',\n",
       " '.jupyter',\n",
       " '.matplotlib',\n",
       " '.vscode',\n",
       " '16 0ct Assignment.ipynb',\n",
       " '3D Objects',\n",
       " '8oct assignment.ipynb',\n",
       " 'ALLEN - Trainee Faculty Recruitment-2022.pdf',\n",
       " 'anaconda3',\n",
       " 'AppData',\n",
       " 'Application Data',\n",
       " 'assignment 1 oct.ipynb',\n",
       " 'assignment.ipynb',\n",
       " 'assinment1.ipynb',\n",
       " 'books.db',\n",
       " 'Contacts',\n",
       " 'Cookies',\n",
       " 'Desktop',\n",
       " 'dict1.ipynb',\n",
       " 'Documents',\n",
       " 'Downloads',\n",
       " 'Environmental Science.pdf',\n",
       " 'ex1.log',\n",
       " 'far with Star 2.ipynb',\n",
       " 'Favorites',\n",
       " 'files 2.ipynb',\n",
       " 'for with star pattern.ipynb',\n",
       " 'for with star3.ipynb',\n",
       " 'for.ipynb',\n",
       " 'for2.ipynb',\n",
       " 'function 2.ipynb',\n",
       " 'function1.ipynb',\n",
       " 'git.jpg',\n",
       " 'GOT.jpg',\n",
       " 'hellothere.docx',\n",
       " 'id.ipynb',\n",
       " 'if else , for loop.ipynb',\n",
       " 'if Uttarakhand.ipynb',\n",
       " 'if.ipynb',\n",
       " 'ind.txt',\n",
       " 'india.txt',\n",
       " 'india2.txt',\n",
       " 'input.ipynb',\n",
       " 'IntelGraphicsProfiles',\n",
       " 'iterator and iterables 2.ipynb',\n",
       " 'iterator and iterables.ipynb',\n",
       " 'Links',\n",
       " 'list1.ipynb',\n",
       " 'list2.ipynb',\n",
       " 'Local Settings',\n",
       " 'Logging.ipynb',\n",
       " 'mb_1.py',\n",
       " 'MicrosoftEdgeBackups',\n",
       " 'mudit',\n",
       " 'Mudit  Bhatt resume.pdf',\n",
       " 'Music',\n",
       " 'My Documents',\n",
       " 'My name.docx',\n",
       " 'myfolder',\n",
       " 'my_modules.py',\n",
       " 'NetHood',\n",
       " 'new 1.txt',\n",
       " 'new.zip',\n",
       " 'newGOT.jpg',\n",
       " 'newimg.jpg',\n",
       " 'NTUSER.DAT',\n",
       " 'ntuser.dat.LOG1',\n",
       " 'ntuser.dat.LOG2',\n",
       " 'NTUSER.DAT{462c320f-eec1-11ec-aac7-30e171778121}.TM.blf',\n",
       " 'NTUSER.DAT{462c320f-eec1-11ec-aac7-30e171778121}.TMContainer00000000000000000001.regtrans-ms',\n",
       " 'NTUSER.DAT{462c320f-eec1-11ec-aac7-30e171778121}.TMContainer00000000000000000002.regtrans-ms',\n",
       " 'ntuser.ini',\n",
       " 'OneDrive',\n",
       " 'Pictures',\n",
       " 'Pprint.ipynb',\n",
       " 'PrintHood',\n",
       " 'PycharmProjects',\n",
       " 'Recent',\n",
       " 'result.pdf',\n",
       " 'Saved Games',\n",
       " 'Searches',\n",
       " 'SendTo',\n",
       " 'set.ipynb',\n",
       " 'Start Menu',\n",
       " 'string.ipynb',\n",
       " 'Templates',\n",
       " 'test.log',\n",
       " 'test.txt',\n",
       " 'test101',\n",
       " 'test150.txt',\n",
       " 'test22.txt',\n",
       " 'tip.png',\n",
       " 'tip1.png',\n",
       " 'tkinter1.ipynb',\n",
       " 'today.txt',\n",
       " 'Tracing',\n",
       " 'try .ipynb',\n",
       " 'try2.ipynb',\n",
       " 'ttt.log',\n",
       " 'tuples.ipynb',\n",
       " 'Untitled.ipynb',\n",
       " 'Untitled1.ipynb',\n",
       " 'Untitled10.ipynb',\n",
       " 'Untitled11.ipynb',\n",
       " 'Untitled12.ipynb',\n",
       " 'Untitled13.ipynb',\n",
       " 'Untitled14.ipynb',\n",
       " 'Untitled2.ipynb',\n",
       " 'Untitled3.ipynb',\n",
       " 'Untitled32.ipynb',\n",
       " 'Untitled33.ipynb',\n",
       " 'Untitled4.ipynb',\n",
       " 'Untitled49.ipynb',\n",
       " 'Untitled5.ipynb',\n",
       " 'Untitled6.ipynb',\n",
       " 'Untitled7.ipynb',\n",
       " 'Untitled8.ipynb',\n",
       " 'Untitled9.ipynb',\n",
       " 'variables.ipynb',\n",
       " 'Videos',\n",
       " 'xxy.log',\n",
       " 'yield and file1.ipynb',\n",
       " 'zoo.py',\n",
       " 'zzz.log',\n",
       " '__pycache__']"
      ]
     },
     "execution_count": 10,
     "metadata": {},
     "output_type": "execute_result"
    }
   ],
   "source": [
    "import os\n",
    "os.listdir('.')"
   ]
  },
  {
   "cell_type": "markdown",
   "id": "5f88945a",
   "metadata": {},
   "source": [
    "-----------------------"
   ]
  },
  {
   "cell_type": "markdown",
   "id": "8c8e0ea8",
   "metadata": {},
   "source": [
    "5. Create a list of all of the files in your parent directory (minimum five files should be available).\n"
   ]
  },
  {
   "cell_type": "code",
   "execution_count": 11,
   "id": "6c7c5622",
   "metadata": {},
   "outputs": [
    {
     "data": {
      "text/plain": [
       "['Admin', 'All Users', 'Default', 'Default User', 'desktop.ini', 'Public']"
      ]
     },
     "execution_count": 11,
     "metadata": {},
     "output_type": "execute_result"
    }
   ],
   "source": [
    "os.listdir('..')"
   ]
  },
  {
   "cell_type": "markdown",
   "id": "f495cb9a",
   "metadata": {},
   "source": [
    "---------------------"
   ]
  },
  {
   "cell_type": "markdown",
   "id": "197dd19d",
   "metadata": {},
   "source": [
    "6. Use multiprocessing to create three separate processes. Make each one wait a random number of\n",
    "seconds between one and five, print the current time, and then exit.\n"
   ]
  },
  {
   "cell_type": "code",
   "execution_count": 20,
   "id": "9c9c39cf",
   "metadata": {},
   "outputs": [],
   "source": [
    "import multiprocessing\n",
    "\n",
    "def printsec(seconds):\n",
    "    from datetime import datetime\n",
    "    from time import sleep\n",
    "    sleep(seconds)\n",
    "    print('wait', seconds, 'seconds, time is', datetime.utcnow())\n",
    "    \n",
    "if __name__ == '__main__':\n",
    "    import random    \n",
    "    for n in range(3):\n",
    "        seconds = random.random()\n",
    "        proc = multiprocessing.Process(target=printsec, args=(seconds,))\n",
    "        proc.start()"
   ]
  },
  {
   "cell_type": "code",
   "execution_count": 22,
   "id": "6e8d7018",
   "metadata": {},
   "outputs": [
    {
     "name": "stdout",
     "output_type": "stream",
     "text": [
      "wait 0.07429484313117518 seconds, time is 2022-10-29 07:49:58.424477\n",
      "wait 0.3398619659959512 seconds, time is 2022-10-29 07:49:58.704626\n",
      "wait 0.684294494718631 seconds, time is 2022-10-29 07:49:59.058216\n"
     ]
    }
   ],
   "source": [
    "!python mudit2.py"
   ]
  },
  {
   "cell_type": "markdown",
   "id": "1974523b",
   "metadata": {},
   "source": [
    "----------------------------"
   ]
  },
  {
   "cell_type": "markdown",
   "id": "4ad5b999",
   "metadata": {},
   "source": [
    "7. Create a date object of your day of birth.\n"
   ]
  },
  {
   "cell_type": "code",
   "execution_count": 13,
   "id": "b3fce5a2",
   "metadata": {},
   "outputs": [
    {
     "data": {
      "text/plain": [
       "datetime.date(1994, 1, 18)"
      ]
     },
     "execution_count": 13,
     "metadata": {},
     "output_type": "execute_result"
    }
   ],
   "source": [
    "my_dob = date(1994,1,18)\n",
    "my_dob"
   ]
  },
  {
   "cell_type": "markdown",
   "id": "1ed401dd",
   "metadata": {},
   "source": [
    "-----------------------"
   ]
  },
  {
   "cell_type": "markdown",
   "id": "86b70039",
   "metadata": {},
   "source": [
    "8. What day of the week was your day of birth?\n"
   ]
  },
  {
   "cell_type": "code",
   "execution_count": 14,
   "id": "e20ae6fc",
   "metadata": {},
   "outputs": [
    {
     "data": {
      "text/plain": [
       "1"
      ]
     },
     "execution_count": 14,
     "metadata": {},
     "output_type": "execute_result"
    }
   ],
   "source": [
    "my_dob.weekday()"
   ]
  },
  {
   "cell_type": "markdown",
   "id": "1e34280f",
   "metadata": {},
   "source": [
    "-------------------------"
   ]
  },
  {
   "cell_type": "markdown",
   "id": "28f6bd2e",
   "metadata": {},
   "source": [
    "9. When will you be (or when were you) 10,000 days old?"
   ]
  },
  {
   "cell_type": "code",
   "execution_count": 15,
   "id": "a9ecc8de",
   "metadata": {},
   "outputs": [
    {
     "data": {
      "text/plain": [
       "datetime.date(2021, 6, 5)"
      ]
     },
     "execution_count": 15,
     "metadata": {},
     "output_type": "execute_result"
    }
   ],
   "source": [
    "from datetime import timedelta\n",
    "day10000 = my_dob + timedelta(days=10000)\n",
    "day10000"
   ]
  },
  {
   "cell_type": "markdown",
   "id": "c4c5aa3b",
   "metadata": {},
   "source": [
    "----------------------------"
   ]
  }
 ],
 "metadata": {
  "kernelspec": {
   "display_name": "Python 3 (ipykernel)",
   "language": "python",
   "name": "python3"
  },
  "language_info": {
   "codemirror_mode": {
    "name": "ipython",
    "version": 3
   },
   "file_extension": ".py",
   "mimetype": "text/x-python",
   "name": "python",
   "nbconvert_exporter": "python",
   "pygments_lexer": "ipython3",
   "version": "3.9.12"
  }
 },
 "nbformat": 4,
 "nbformat_minor": 5
}
