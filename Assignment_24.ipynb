{
 "cells": [
  {
   "cell_type": "markdown",
   "id": "e8ee8b0e",
   "metadata": {},
   "source": [
    "1. What is the relationship between def statements and lambda expressions ?"
   ]
  },
  {
   "cell_type": "markdown",
   "id": "c5d1b952",
   "metadata": {},
   "source": [
    "#Ans.\n",
    "\n",
    "A lambda function is a small anonymous function which can return the value that can optionally be assigned a name.\n",
    "on the other hand, the def statement always assigns the new function to the name in the header, instead of returning is as a result. lambda's body is a single expression, not a block of statements"
   ]
  },
  {
   "cell_type": "code",
   "execution_count": 2,
   "id": "6eea77c6",
   "metadata": {},
   "outputs": [
    {
     "data": {
      "text/plain": [
       "8"
      ]
     },
     "execution_count": 2,
     "metadata": {},
     "output_type": "execute_result"
    }
   ],
   "source": [
    "num = lambda a : a*2\n",
    "num(4)"
   ]
  },
  {
   "cell_type": "code",
   "execution_count": 5,
   "id": "8aaf9d54",
   "metadata": {},
   "outputs": [
    {
     "data": {
      "text/plain": [
       "8"
      ]
     },
     "execution_count": 5,
     "metadata": {},
     "output_type": "execute_result"
    }
   ],
   "source": [
    "def test(a):\n",
    "    return a*2\n",
    "test(4)"
   ]
  },
  {
   "cell_type": "markdown",
   "id": "ae2900a5",
   "metadata": {},
   "source": [
    "--------------------"
   ]
  },
  {
   "cell_type": "markdown",
   "id": "4c2d445d",
   "metadata": {},
   "source": [
    "2. What is the benefit of lambda?"
   ]
  },
  {
   "cell_type": "markdown",
   "id": "92ef1ef7",
   "metadata": {},
   "source": [
    "#Ans.\n",
    "\n",
    "Lambda provides a shortcut for declaring small anonymous functions. Lambda functions behave just like regular functions declared with the def keyword. They can be used whenever function objects are required."
   ]
  },
  {
   "cell_type": "markdown",
   "id": "4c3bb41e",
   "metadata": {},
   "source": [
    "-----------------"
   ]
  },
  {
   "cell_type": "markdown",
   "id": "9c8369ef",
   "metadata": {},
   "source": [
    "3. Compare and contrast map, filter, and reduce."
   ]
  },
  {
   "cell_type": "markdown",
   "id": "f204d7fa",
   "metadata": {},
   "source": [
    "#Ans. \n",
    "\n",
    "Map applies as a transformation to an element. The map() function iterates through all items in the given iterable and executes the function we passed as an argument on each of them. Syntax : map(function, iterable(s))\n",
    "\n",
    "filter accumulates only elements matching a condition. filter() forms a new list that contains only elements that satisfy a certain condition, i.e. the function we passed returns True Syntax : filter(function, iterable(s))\n",
    "\n",
    "reduce accumulates all elements to a single value, by using immutable values reduce() works by calling the function we passed for the first two items in the sequence. The result returned by the function is used in another call to function alongside with the next (third in this case), element Syntax : reduce(function, sequence[, initial])"
   ]
  },
  {
   "cell_type": "markdown",
   "id": "f43b3787",
   "metadata": {},
   "source": [
    "-------------------"
   ]
  },
  {
   "cell_type": "markdown",
   "id": "965b5053",
   "metadata": {},
   "source": [
    "4. What are function annotations, and how are they used?"
   ]
  },
  {
   "cell_type": "markdown",
   "id": "b4cad47e",
   "metadata": {},
   "source": [
    "#Ans.\n",
    "\n",
    "Function annotations are completely optional both for parameters and return value. Function annotations provide a way of associating various parts of a function with arbitrary python expressions at compile time.\n",
    "\n",
    "Syntax of function annotations for simple parameters and for excess parameters respectively:\n",
    "\n",
    "def foobar(a: expression, b: expression = 5):\n",
    "\n",
    "def foobar(args: expression, kwargs: expression):"
   ]
  },
  {
   "cell_type": "markdown",
   "id": "06f9ab2c",
   "metadata": {},
   "source": [
    "----------------------"
   ]
  },
  {
   "cell_type": "markdown",
   "id": "97e43686",
   "metadata": {},
   "source": [
    "5. What are recursive functions, and how are they used?"
   ]
  },
  {
   "cell_type": "markdown",
   "id": "56b0849f",
   "metadata": {},
   "source": [
    "#Ans.\n",
    "\n",
    "A recursive function is a function that calls itself during its execution. This means that the function will continue to call itself and repeat its behavior until some condition is met to return a result"
   ]
  },
  {
   "cell_type": "code",
   "execution_count": 10,
   "id": "00eb169a",
   "metadata": {},
   "outputs": [
    {
     "data": {
      "text/plain": [
       "6"
      ]
     },
     "execution_count": 10,
     "metadata": {},
     "output_type": "execute_result"
    }
   ],
   "source": [
    "def test1(a):\n",
    "    if a == 1 :\n",
    "        return 1\n",
    "    else :\n",
    "        return a * test1(a-1) \n",
    "    \n",
    "test1(3)"
   ]
  },
  {
   "cell_type": "markdown",
   "id": "391c7b6e",
   "metadata": {},
   "source": [
    "------------------------------"
   ]
  },
  {
   "cell_type": "markdown",
   "id": "3d7aa5bb",
   "metadata": {},
   "source": [
    "6. What are some general design guidelines for coding functions?"
   ]
  },
  {
   "cell_type": "markdown",
   "id": "9755a8e5",
   "metadata": {},
   "source": [
    "#Ans.\n",
    "\n",
    "Use 4-space indentation and no tabs.\n",
    "\n",
    "Use docstrings\n",
    "\n",
    "Wrap lines so that they don’t exceed 79 characters\n",
    "\n",
    "Use of regular and updated comments are valuable to both the coders and users\n",
    "\n",
    "Naming Conventions as python is case specific. any change in upper or lowercase will given an error.\n",
    "\n",
    "While naming of function of methods always use self for the first argument"
   ]
  },
  {
   "cell_type": "markdown",
   "id": "1a0a7e39",
   "metadata": {},
   "source": [
    "--------------------------"
   ]
  },
  {
   "cell_type": "markdown",
   "id": "6fe7555f",
   "metadata": {},
   "source": [
    "7. Name three or more ways that functions can communicate results to a caller."
   ]
  },
  {
   "cell_type": "markdown",
   "id": "aa0d8006",
   "metadata": {},
   "source": [
    "#Ans.\n",
    "\n",
    "To call a function, we specify the function name with the round brackets.\n",
    "\n",
    "Use of return keyword inside function which returns the results to the caller.\n",
    "\n",
    "Use of print statement inside function which prints the results to the caller."
   ]
  },
  {
   "cell_type": "code",
   "execution_count": null,
   "id": "e07f158b",
   "metadata": {},
   "outputs": [],
   "source": []
  }
 ],
 "metadata": {
  "kernelspec": {
   "display_name": "Python 3 (ipykernel)",
   "language": "python",
   "name": "python3"
  },
  "language_info": {
   "codemirror_mode": {
    "name": "ipython",
    "version": 3
   },
   "file_extension": ".py",
   "mimetype": "text/x-python",
   "name": "python",
   "nbconvert_exporter": "python",
   "pygments_lexer": "ipython3",
   "version": "3.9.12"
  }
 },
 "nbformat": 4,
 "nbformat_minor": 5
}
