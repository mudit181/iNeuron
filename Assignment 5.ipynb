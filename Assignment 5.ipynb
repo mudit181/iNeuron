{
 "cells": [
  {
   "cell_type": "markdown",
   "id": "9b7a94e0",
   "metadata": {},
   "source": [
    "1. What does an empty dictionary's code look like?"
   ]
  },
  {
   "cell_type": "code",
   "execution_count": 3,
   "id": "f047966e",
   "metadata": {},
   "outputs": [],
   "source": [
    "#Ans.\n",
    "d={}"
   ]
  },
  {
   "cell_type": "markdown",
   "id": "4f22795f",
   "metadata": {},
   "source": [
    "2. What is the value of a dictionary value with the key 'foo' and the value 42?"
   ]
  },
  {
   "cell_type": "code",
   "execution_count": 5,
   "id": "c12cc178",
   "metadata": {},
   "outputs": [
    {
     "data": {
      "text/plain": [
       "{'foo': 42}"
      ]
     },
     "execution_count": 5,
     "metadata": {},
     "output_type": "execute_result"
    }
   ],
   "source": [
    "#Ans.\n",
    "d1= {'foo': 42}\n",
    "d1"
   ]
  },
  {
   "cell_type": "markdown",
   "id": "180119e5",
   "metadata": {},
   "source": [
    "3. What is the most significant distinction between a dictionary and a list?"
   ]
  },
  {
   "cell_type": "raw",
   "id": "56ddec6a",
   "metadata": {},
   "source": [
    "#Ans.\n",
    "data stored in list are odered, while data stored in dictionary are unodered."
   ]
  },
  {
   "cell_type": "markdown",
   "id": "4e80ab81",
   "metadata": {},
   "source": [
    "4. What happens if you try to access spam['foo'] if spam is {'bar': 100}?"
   ]
  },
  {
   "cell_type": "code",
   "execution_count": 9,
   "id": "702395c5",
   "metadata": {},
   "outputs": [
    {
     "ename": "KeyError",
     "evalue": "'foo'",
     "output_type": "error",
     "traceback": [
      "\u001b[1;31m---------------------------------------------------------------------------\u001b[0m",
      "\u001b[1;31mKeyError\u001b[0m                                  Traceback (most recent call last)",
      "Input \u001b[1;32mIn [9]\u001b[0m, in \u001b[0;36m<cell line: 3>\u001b[1;34m()\u001b[0m\n\u001b[0;32m      1\u001b[0m \u001b[38;5;66;03m#Ans.\u001b[39;00m\n\u001b[0;32m      2\u001b[0m spam\u001b[38;5;241m=\u001b[39m {\u001b[38;5;124m'\u001b[39m\u001b[38;5;124mbar\u001b[39m\u001b[38;5;124m'\u001b[39m: \u001b[38;5;241m100\u001b[39m}\n\u001b[1;32m----> 3\u001b[0m \u001b[43mspam\u001b[49m\u001b[43m[\u001b[49m\u001b[38;5;124;43m'\u001b[39;49m\u001b[38;5;124;43mfoo\u001b[39;49m\u001b[38;5;124;43m'\u001b[39;49m\u001b[43m]\u001b[49m\n",
      "\u001b[1;31mKeyError\u001b[0m: 'foo'"
     ]
    }
   ],
   "source": [
    "#Ans.\n",
    "spam= {'bar': 100}\n",
    "spam['foo']     # it will give a key error as 'foo' is not a key of  spam dictionary."
   ]
  },
  {
   "cell_type": "markdown",
   "id": "3bb9b26a",
   "metadata": {},
   "source": [
    "5. If a dictionary is stored in spam, what is the difference between the expressions 'cat' in spam and\n",
    "'cat' in spam.keys()?"
   ]
  },
  {
   "cell_type": "code",
   "execution_count": 11,
   "id": "6458e94d",
   "metadata": {},
   "outputs": [
    {
     "data": {
      "text/plain": [
       "True"
      ]
     },
     "execution_count": 11,
     "metadata": {},
     "output_type": "execute_result"
    }
   ],
   "source": [
    "#Ans.\n",
    "spam = { 'cat': 5}\n",
    "'cat' in spam\n"
   ]
  },
  {
   "cell_type": "code",
   "execution_count": 13,
   "id": "94f01a93",
   "metadata": {},
   "outputs": [
    {
     "data": {
      "text/plain": [
       "True"
      ]
     },
     "execution_count": 13,
     "metadata": {},
     "output_type": "execute_result"
    }
   ],
   "source": [
    "'cat' in spam.keys() #there is mo difference as the cat is key of spam"
   ]
  },
  {
   "cell_type": "markdown",
   "id": "d1034273",
   "metadata": {},
   "source": [
    "6. If a dictionary is stored in spam, what is the difference between the expressions 'cat' in spam and\n",
    "'cat' in spam.values()?"
   ]
  },
  {
   "cell_type": "code",
   "execution_count": 16,
   "id": "1ed42e02",
   "metadata": {},
   "outputs": [
    {
     "data": {
      "text/plain": [
       "True"
      ]
     },
     "execution_count": 16,
     "metadata": {},
     "output_type": "execute_result"
    }
   ],
   "source": [
    "#Ans.\n",
    "spam = { 'cat': 5}\n",
    "'cat' in spam"
   ]
  },
  {
   "cell_type": "code",
   "execution_count": 17,
   "id": "68313cd9",
   "metadata": {},
   "outputs": [
    {
     "data": {
      "text/plain": [
       "False"
      ]
     },
     "execution_count": 17,
     "metadata": {},
     "output_type": "execute_result"
    }
   ],
   "source": [
    "'cat' in spam.values()  #it will return False as \"cat\" is a key not a value."
   ]
  },
  {
   "cell_type": "markdown",
   "id": "eb09789c",
   "metadata": {},
   "source": [
    "7. What is a shortcut for the following code?"
   ]
  },
  {
   "cell_type": "markdown",
   "id": "0a232566",
   "metadata": {},
   "source": [
    "if 'color' not in spam:\n",
    "spam[\"color\"] = \"black\""
   ]
  },
  {
   "cell_type": "code",
   "execution_count": 20,
   "id": "2897118a",
   "metadata": {},
   "outputs": [
    {
     "data": {
      "text/plain": [
       "{'cat': 5, 'color': 'black'}"
      ]
     },
     "execution_count": 20,
     "metadata": {},
     "output_type": "execute_result"
    }
   ],
   "source": [
    "#Ans.\n",
    "spam = { 'cat': 5}\n",
    "spam.setdefault('color','black')\n",
    "spam"
   ]
  },
  {
   "cell_type": "markdown",
   "id": "ee177ceb",
   "metadata": {},
   "source": [
    "8. How do you \"pretty print\"dictionary values using which module and function?"
   ]
  },
  {
   "cell_type": "code",
   "execution_count": 38,
   "id": "57bc32eb",
   "metadata": {},
   "outputs": [],
   "source": [
    "import pprint\n",
    "d = {'end':'ok','book3':{'name':'Shiva Trilogy','writer':'Amish tripathi'},\"Myname\":'Mudit','book4':{'writer':'JK rowlings',\n",
    "'name':'HarryPotter'}, 'book1':{'name': 'game of thrones',  'writer':'RR Martin'},\n",
    "'Interest':'books','book2':{'writer':'JRR Tolkien','name':'Lord Of the Rings'} }"
   ]
  },
  {
   "cell_type": "code",
   "execution_count": 42,
   "id": "ee2850e7",
   "metadata": {},
   "outputs": [
    {
     "data": {
      "text/plain": [
       "{'end': 'ok',\n",
       " 'book3': {'name': 'Shiva Trilogy', 'writer': 'Amish tripathi'},\n",
       " 'Myname': 'Mudit',\n",
       " 'book4': {'writer': 'JK rowlings', 'name': 'HarryPotter'},\n",
       " 'book1': {'name': 'game of thrones', 'writer': 'RR Martin'},\n",
       " 'Interest': 'books',\n",
       " 'book2': {'writer': 'JRR Tolkien', 'name': 'Lord Of the Rings'}}"
      ]
     },
     "execution_count": 42,
     "metadata": {},
     "output_type": "execute_result"
    }
   ],
   "source": [
    "d           #normal run gives unorganised dictionary."
   ]
  },
  {
   "cell_type": "code",
   "execution_count": 43,
   "id": "a8e4e2dc",
   "metadata": {},
   "outputs": [
    {
     "name": "stdout",
     "output_type": "stream",
     "text": [
      "{'Interest': 'books',\n",
      " 'Myname': 'Mudit',\n",
      " 'book1': {'name': 'game of thrones', 'writer': 'RR Martin'},\n",
      " 'book2': {'name': 'Lord Of the Rings', 'writer': 'JRR Tolkien'},\n",
      " 'book3': {'name': 'Shiva Trilogy', 'writer': 'Amish tripathi'},\n",
      " 'book4': {'name': 'HarryPotter', 'writer': 'JK rowlings'},\n",
      " 'end': 'ok'}\n"
     ]
    }
   ],
   "source": [
    "pprint.pprint(d)         #pprint gives organised dictionary."
   ]
  },
  {
   "cell_type": "code",
   "execution_count": null,
   "id": "b6f925ff",
   "metadata": {},
   "outputs": [],
   "source": []
  }
 ],
 "metadata": {
  "kernelspec": {
   "display_name": "Python 3 (ipykernel)",
   "language": "python",
   "name": "python3"
  },
  "language_info": {
   "codemirror_mode": {
    "name": "ipython",
    "version": 3
   },
   "file_extension": ".py",
   "mimetype": "text/x-python",
   "name": "python",
   "nbconvert_exporter": "python",
   "pygments_lexer": "ipython3",
   "version": "3.9.12"
  }
 },
 "nbformat": 4,
 "nbformat_minor": 5
}
