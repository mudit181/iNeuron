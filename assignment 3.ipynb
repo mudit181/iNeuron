{
 "cells": [
  {
   "cell_type": "markdown",
   "id": "43b9534b",
   "metadata": {},
   "source": [
    "1. Why are functions advantageous to have in your programs?"
   ]
  },
  {
   "cell_type": "raw",
   "id": "abcd57e4",
   "metadata": {},
   "source": [
    "#Ans.\n",
    "Function helps to avoid writing repetation of same code. Which makes the program easy to run infinet number of times without writing complete code."
   ]
  },
  {
   "cell_type": "markdown",
   "id": "eeb4f907",
   "metadata": {},
   "source": [
    "2. When does the code in a function run: when it's specified or when it's called?"
   ]
  },
  {
   "cell_type": "raw",
   "id": "10021df3",
   "metadata": {},
   "source": [
    "#Ans.\n",
    "Function is run when its called.\n"
   ]
  },
  {
   "cell_type": "markdown",
   "id": "4683b5ff",
   "metadata": {},
   "source": [
    "3. What statement creates a function?"
   ]
  },
  {
   "cell_type": "code",
   "execution_count": 4,
   "id": "7c77c557",
   "metadata": {},
   "outputs": [],
   "source": [
    "#Ans.\n",
    "def xyz():             # def statement creats the function\n",
    "    return                  "
   ]
  },
  {
   "cell_type": "markdown",
   "id": "4a76bcc3",
   "metadata": {},
   "source": [
    "4. What is the difference between a function and a function call?"
   ]
  },
  {
   "cell_type": "code",
   "execution_count": 5,
   "id": "e2e5c692",
   "metadata": {},
   "outputs": [],
   "source": [
    "#Ans.\n",
    "def add_1(a,b):\n",
    "    ''' Function is group of statements or the block of code for a specific task.'''\n",
    "    return a+b             "
   ]
  },
  {
   "cell_type": "code",
   "execution_count": 6,
   "id": "04e2417d",
   "metadata": {},
   "outputs": [
    {
     "data": {
      "text/plain": [
       "15"
      ]
     },
     "execution_count": 6,
     "metadata": {},
     "output_type": "execute_result"
    }
   ],
   "source": [
    "#Function call is the name of a function with the paranthesis to exicute return value of a program function.\n",
    "num1= 5\n",
    "num2= 10                 \n",
    "add_1(num1,num2)"
   ]
  },
  {
   "cell_type": "markdown",
   "id": "81ebeed2",
   "metadata": {},
   "source": [
    "5. How many global scopes are there in a Python program? How many local scopes?"
   ]
  },
  {
   "cell_type": "code",
   "execution_count": 21,
   "id": "f6fcf477",
   "metadata": {},
   "outputs": [
    {
     "data": {
      "text/plain": [
       "10"
      ]
     },
     "execution_count": 21,
     "metadata": {},
     "output_type": "execute_result"
    }
   ],
   "source": [
    "#Ans.\n",
    "#there is only one global scope\n",
    "a = 5\n",
    "def test():\n",
    "    a= 10       # local scope are also only one but they always come under a function.   \n",
    "    \n",
    "    return a\n",
    "\n",
    "\n",
    "test()"
   ]
  },
  {
   "cell_type": "markdown",
   "id": "19652396",
   "metadata": {},
   "source": [
    "6. What happens to variables in a local scope when the function call returns?"
   ]
  },
  {
   "cell_type": "code",
   "execution_count": 24,
   "id": "3c15ce0d",
   "metadata": {},
   "outputs": [
    {
     "data": {
      "text/plain": [
       "5"
      ]
     },
     "execution_count": 24,
     "metadata": {},
     "output_type": "execute_result"
    }
   ],
   "source": [
    "#ans.\n",
    "#Variable get distroyed after the dunction call.\n",
    "a             #(a=10) from function distroyed and global function (a=5) returns value."
   ]
  },
  {
   "cell_type": "markdown",
   "id": "4af65864",
   "metadata": {},
   "source": [
    "7. What is the concept of a return value? Is it possible to have a return value in an expression?"
   ]
  },
  {
   "cell_type": "raw",
   "id": "0948a286",
   "metadata": {},
   "source": [
    "#Ans.\n",
    "The value which is evaulate by function call is the return value.\n",
    "yes return values can be use is expression."
   ]
  },
  {
   "cell_type": "markdown",
   "id": "299049c8",
   "metadata": {},
   "source": [
    "8. If a function does not have a return statement, what is the return value of a call to that function?"
   ]
  },
  {
   "cell_type": "code",
   "execution_count": 43,
   "id": "ae04fc33",
   "metadata": {},
   "outputs": [
    {
     "name": "stdout",
     "output_type": "stream",
     "text": [
      "mudit\n"
     ]
    },
    {
     "data": {
      "text/plain": [
       "NoneType"
      ]
     },
     "execution_count": 43,
     "metadata": {},
     "output_type": "execute_result"
    }
   ],
   "source": [
    "#Ans.\n",
    "def test2():\n",
    "    print('mudit')          #value will be None without return statement.\n",
    "    \n",
    "a=test2()\n",
    "type(a)"
   ]
  },
  {
   "cell_type": "markdown",
   "id": "39199d1e",
   "metadata": {},
   "source": [
    "9. How do you make a function variable refer to the global variable?"
   ]
  },
  {
   "cell_type": "code",
   "execution_count": 40,
   "id": "19dec4fc",
   "metadata": {},
   "outputs": [
    {
     "data": {
      "text/plain": [
       "10"
      ]
     },
     "execution_count": 40,
     "metadata": {},
     "output_type": "execute_result"
    }
   ],
   "source": [
    "#Ans.\n",
    "a1= 10\n",
    "def test3():     #by directly using global variable to return ststement\n",
    "    return a1\n",
    "\n",
    "test3()"
   ]
  },
  {
   "cell_type": "markdown",
   "id": "66c4f36e",
   "metadata": {},
   "source": [
    "10. What is the data type of None?"
   ]
  },
  {
   "cell_type": "raw",
   "id": "7e12420f",
   "metadata": {},
   "source": [
    "#Ans.\n",
    "Data type on none is None Type"
   ]
  },
  {
   "cell_type": "markdown",
   "id": "79f43a9e",
   "metadata": {},
   "source": [
    "11. What does the sentence import areallyourpetsnamederic do?"
   ]
  },
  {
   "cell_type": "raw",
   "id": "85cc7115",
   "metadata": {},
   "source": [
    "#Ans.\n",
    "import areallyourpetsnamederic will import module areallyourpetsnamederic."
   ]
  },
  {
   "cell_type": "markdown",
   "id": "3a8f2d20",
   "metadata": {},
   "source": [
    "12. If you had a bacon() feature in a spam module, what would you call it after importing spam?"
   ]
  },
  {
   "cell_type": "raw",
   "id": "31e01473",
   "metadata": {},
   "source": [
    "#Ans.\n",
    "spam.bacon()"
   ]
  },
  {
   "cell_type": "markdown",
   "id": "4b454a6a",
   "metadata": {},
   "source": [
    "13. What can you do to save a programme from crashing if it encounters an error?"
   ]
  },
  {
   "cell_type": "raw",
   "id": "84fe93ba",
   "metadata": {},
   "source": [
    "#Ans.\n",
    "Read the code and  identify the error from error message.\n",
    "if it is Indentation Error check for proper indentation.\n",
    "if it is Syntex error check the code block."
   ]
  },
  {
   "cell_type": "markdown",
   "id": "e79675f0",
   "metadata": {},
   "source": [
    "14. What is the purpose of the try clause? What is the purpose of the except clause?"
   ]
  },
  {
   "cell_type": "raw",
   "id": "a1033f5e",
   "metadata": {},
   "source": [
    "#Ans.\n",
    "If we are getting and error but still we dont want program to stop giving the execution we use try and except clause.\n",
    "the code which might have possibility for an error are placed in try clause.\n",
    "the code that must be exicute even if there is an error such code placed in except clause."
   ]
  }
 ],
 "metadata": {
  "kernelspec": {
   "display_name": "Python 3 (ipykernel)",
   "language": "python",
   "name": "python3"
  },
  "language_info": {
   "codemirror_mode": {
    "name": "ipython",
    "version": 3
   },
   "file_extension": ".py",
   "mimetype": "text/x-python",
   "name": "python",
   "nbconvert_exporter": "python",
   "pygments_lexer": "ipython3",
   "version": "3.9.12"
  }
 },
 "nbformat": 4,
 "nbformat_minor": 5
}
