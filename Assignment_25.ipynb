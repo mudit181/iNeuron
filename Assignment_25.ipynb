{
 "cells": [
  {
   "cell_type": "markdown",
   "id": "52c6ed28",
   "metadata": {},
   "source": [
    "1) . What is the difference between enclosing a list comprehension in square brackets and\n",
    "parentheses?"
   ]
  },
  {
   "cell_type": "markdown",
   "id": "a2201824",
   "metadata": {},
   "source": [
    "#Ans.\n",
    "\n",
    "List Comprehension with square brackets [] creates list while list Comprehension with parentheses () creates generators."
   ]
  },
  {
   "cell_type": "code",
   "execution_count": 7,
   "id": "d98ceb7c",
   "metadata": {},
   "outputs": [
    {
     "data": {
      "text/plain": [
       "[0, 1, 2, 3, 4, 5, 6, 7, 8, 9]"
      ]
     },
     "execution_count": 7,
     "metadata": {},
     "output_type": "execute_result"
    }
   ],
   "source": [
    "l= [i for i in range(10)]\n",
    "l"
   ]
  },
  {
   "cell_type": "code",
   "execution_count": 8,
   "id": "47722858",
   "metadata": {},
   "outputs": [
    {
     "data": {
      "text/plain": [
       "<generator object <genexpr> at 0x000002134DCC1E40>"
      ]
     },
     "execution_count": 8,
     "metadata": {},
     "output_type": "execute_result"
    }
   ],
   "source": [
    "l1= (i for i in range(10))\n",
    "l1"
   ]
  },
  {
   "cell_type": "markdown",
   "id": "96715bd0",
   "metadata": {},
   "source": [
    "--------------------"
   ]
  },
  {
   "cell_type": "markdown",
   "id": "9ccb201f",
   "metadata": {},
   "source": [
    "2) What is the relationship between generators and iterators?"
   ]
  },
  {
   "cell_type": "markdown",
   "id": "37a08a1e",
   "metadata": {},
   "source": [
    "#Ans.\n",
    "\n",
    "An iterator is an object which contains a countable number of values and it is used to iterate over iterable objects like list, tuples etc. Using an iterator- iter()  is used to create an iterator containing an iterable object and next() keyword is used to call the next element in the iterable object.\n",
    "\n",
    "Generators : It is another way of creating iterators in a simple way where it uses the keyword “yield” instead of returning it in a defined function. Generators are implemented using a function. Just as iterators, generators also follow lazy evaluation. The yield function returns the data without affecting or exiting the function. It will return a sequence of data in an iterable format where we need to iterate over the sequence to use the data as they won’t store the entire sequence in the memory."
   ]
  },
  {
   "cell_type": "code",
   "execution_count": 12,
   "id": "3f8a97e2",
   "metadata": {},
   "outputs": [
    {
     "data": {
      "text/plain": [
       "3"
      ]
     },
     "execution_count": 12,
     "metadata": {},
     "output_type": "execute_result"
    }
   ],
   "source": [
    "#Iterator\n",
    "l=iter([1,2,3,4,5,6])\n",
    "next(l)\n",
    "next(l)\n",
    "next(l)"
   ]
  },
  {
   "cell_type": "code",
   "execution_count": 13,
   "id": "04ac7e75",
   "metadata": {},
   "outputs": [],
   "source": [
    "#Generator\n",
    "def sq(n):\n",
    "    for i in range(1, n+1):\n",
    "        yield i"
   ]
  },
  {
   "cell_type": "code",
   "execution_count": 2,
   "id": "cd95ae51",
   "metadata": {},
   "outputs": [],
   "source": [
    "def test(a):\n",
    "    for i in range(a):\n",
    "        yield i"
   ]
  },
  {
   "cell_type": "code",
   "execution_count": 14,
   "id": "addff43c",
   "metadata": {},
   "outputs": [
    {
     "data": {
      "text/plain": [
       "<generator object test at 0x0000029D6BB57C80>"
      ]
     },
     "execution_count": 14,
     "metadata": {},
     "output_type": "execute_result"
    }
   ],
   "source": [
    "test(10)"
   ]
  },
  {
   "cell_type": "markdown",
   "id": "1d746825",
   "metadata": {},
   "source": [
    "---------------------------"
   ]
  },
  {
   "cell_type": "markdown",
   "id": "62583f5c",
   "metadata": {},
   "source": [
    "3) What are the signs that a function is a generator function?"
   ]
  },
  {
   "cell_type": "markdown",
   "id": "57aa1ef4",
   "metadata": {},
   "source": [
    "#Ans. \n",
    "\n",
    "If a function contains at least one yield statement, it becomes a generator function. Both yield and return will return some value from a function."
   ]
  },
  {
   "cell_type": "markdown",
   "id": "14c18b9c",
   "metadata": {},
   "source": [
    "----------------------"
   ]
  },
  {
   "cell_type": "markdown",
   "id": "de957ab5",
   "metadata": {},
   "source": [
    "4) What is the purpose of a yield statement?"
   ]
  },
  {
   "cell_type": "markdown",
   "id": "c019741d",
   "metadata": {},
   "source": [
    "#Ans.\n",
    "\n",
    "Yield is a keyword in Python that is used to return from a function without destroying the states of its local variable and when the function is called, the execution starts from the last yield statement. Any function that contains a yield keyword is termed as generator. Hence, yield is essential for making a generator."
   ]
  },
  {
   "cell_type": "markdown",
   "id": "7564fd13",
   "metadata": {},
   "source": [
    "-----------------------"
   ]
  },
  {
   "cell_type": "markdown",
   "id": "762f0e35",
   "metadata": {},
   "source": [
    "5) What is the relationship between map calls and list comprehensions? Make a comparison and\n",
    "contrast between the two."
   ]
  },
  {
   "cell_type": "markdown",
   "id": "57ec0aac",
   "metadata": {},
   "source": [
    "#Ans.\n",
    "\n",
    "List comprehension is more concise and easier to read as compared to map.\n",
    "\n",
    "List comprehension allows filtering. In map, we have no such facility. For example, to print all even numbers in range of 100, we can write [n for n in range(100) if n%2 == 0]. There is no alternate for it in map.\n",
    "\n",
    "List comprehension are used when a list of results is required as map only returns a map object and does not return any list.\n",
    "\n",
    "List comprehension is faster than map when we need to evaluate expressions that are too long or complicated to express.\n",
    "\n",
    "Map is faster in case of calling an already defined function (as no lambda is required)."
   ]
  },
  {
   "cell_type": "markdown",
   "id": "85a1bd56",
   "metadata": {},
   "source": [
    "-------------"
   ]
  }
 ],
 "metadata": {
  "kernelspec": {
   "display_name": "Python 3 (ipykernel)",
   "language": "python",
   "name": "python3"
  },
  "language_info": {
   "codemirror_mode": {
    "name": "ipython",
    "version": 3
   },
   "file_extension": ".py",
   "mimetype": "text/x-python",
   "name": "python",
   "nbconvert_exporter": "python",
   "pygments_lexer": "ipython3",
   "version": "3.9.12"
  }
 },
 "nbformat": 4,
 "nbformat_minor": 5
}
