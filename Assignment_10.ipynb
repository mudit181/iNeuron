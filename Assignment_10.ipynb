{
 "cells": [
  {
   "cell_type": "markdown",
   "id": "0c7ba42f",
   "metadata": {},
   "source": [
    "1. How do you distinguish between shutil.copy() and shutil.copytree()?"
   ]
  },
  {
   "cell_type": "raw",
   "id": "834b7b9c",
   "metadata": {},
   "source": [
    "#Ans.\n",
    "\"shutil.copy()\" copies a single file from source folder to destinstion folder .\n",
    "shutil.copytree()\" copies every single files with their containt (i.e. entire directory) from source folder to destinstion folder"
   ]
  },
  {
   "cell_type": "markdown",
   "id": "5b65189d",
   "metadata": {},
   "source": [
    "-------"
   ]
  },
  {
   "cell_type": "markdown",
   "id": "5dc4bb86",
   "metadata": {},
   "source": [
    "2. What function is used to rename files??"
   ]
  },
  {
   "cell_type": "raw",
   "id": "a8179b0f",
   "metadata": {},
   "source": [
    " #Ans. \n",
    "os.rename()\n",
    "shutil.move()   are 2 functions can be use to change file name."
   ]
  },
  {
   "cell_type": "markdown",
   "id": "7b8e7fb3",
   "metadata": {},
   "source": [
    "-------"
   ]
  },
  {
   "cell_type": "markdown",
   "id": "f833ec4d",
   "metadata": {},
   "source": [
    "3. What is the difference between the delete functions in the send2trash and shutil modules?"
   ]
  },
  {
   "cell_type": "raw",
   "id": "dc0ad7bb",
   "metadata": {},
   "source": [
    " #Ans.\n",
    " \n",
    "shutil.rmtree() deletes the file permanently from the system which can not be restore again once deleted.\n",
    "\n",
    "send2trash sends the files to recycle bin instead of permanently deleting them from your system. file can be restore from the recycle bin."
   ]
  },
  {
   "cell_type": "markdown",
   "id": "3ebcaeff",
   "metadata": {},
   "source": [
    "------\n"
   ]
  },
  {
   "cell_type": "markdown",
   "id": "638fd1d9",
   "metadata": {},
   "source": [
    "4.ZipFile objects have a close() method just like File objects’ close() method. What ZipFile method is\n",
    "equivalent to File objects’ open() method?"
   ]
  },
  {
   "cell_type": "code",
   "execution_count": 5,
   "id": "e665d94f",
   "metadata": {},
   "outputs": [],
   "source": [
    " #Ans.\n",
    "# ZipFile method is equivalent to File objects’ open() method:\n",
    "\n",
    "import zipfile\n",
    "newZip = zipfile.ZipFile('new.zip', 'w')"
   ]
  },
  {
   "cell_type": "markdown",
   "id": "25ce2567",
   "metadata": {},
   "source": [
    "------------------------------"
   ]
  },
  {
   "cell_type": "markdown",
   "id": "def7170c",
   "metadata": {},
   "source": [
    "5. Create a programme that searches a folder tree for files with a certain file extension (such as .pdf\n",
    "or .jpg). Copy these files from whatever location they are in to a new folder."
   ]
  },
  {
   "cell_type": "code",
   "execution_count": 15,
   "id": "4d933df7",
   "metadata": {},
   "outputs": [
    {
     "name": "stdout",
     "output_type": "stream",
     "text": [
      "Enter the absolute path of the source folder: C:\\Users\\Admin\\mudit\\extra\n",
      "Enter the type of file to copy (such as .pdf or .jpg): git.jpg\n",
      "Enter the absolute path of the destination folder: C:\\Users\\Admin\\myfolder\n"
     ]
    }
   ],
   "source": [
    "# Ans: \n",
    "import os, shutil\n",
    "\n",
    "sourcePath = input(\"Enter the absolute path of the source folder: \" )\n",
    "fileExtType = input(\"Enter the type of file to copy (such as .pdf or .jpg): \").lower()\n",
    "destPath = input(\"Enter the absolute path of the destination folder: \" )\n",
    "\n",
    "for foldername, subfolders, filenames in os.walk(sourcePath):\n",
    "    for filename in filenames:\n",
    "        if filename.lower().endswith(fileExtType):\n",
    "            copySourcePath = os.path.join(foldername, filename)\n",
    "            shutil.copy(copySourcePath, destPath)\n",
    "        else:\n",
    "            continue"
   ]
  }
 ],
 "metadata": {
  "kernelspec": {
   "display_name": "Python 3 (ipykernel)",
   "language": "python",
   "name": "python3"
  },
  "language_info": {
   "codemirror_mode": {
    "name": "ipython",
    "version": 3
   },
   "file_extension": ".py",
   "mimetype": "text/x-python",
   "name": "python",
   "nbconvert_exporter": "python",
   "pygments_lexer": "ipython3",
   "version": "3.9.12"
  }
 },
 "nbformat": 4,
 "nbformat_minor": 5
}
