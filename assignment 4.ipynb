{
 "cells": [
  {
   "cell_type": "raw",
   "id": "8a5f528b",
   "metadata": {},
   "source": [
    "1. What exactly is []?\n",
    "Ans.\n",
    "It's an empty list."
   ]
  },
  {
   "cell_type": "markdown",
   "id": "efe3f09a",
   "metadata": {},
   "source": [
    "2. In a list of values stored in a variable called spam, how would you assign the value 'hello' as the\n",
    "third value? (Assume [2, 4, 6, 8, 10] are in spam.)\n"
   ]
  },
  {
   "cell_type": "code",
   "execution_count": 1,
   "id": "7fbca8e7",
   "metadata": {},
   "outputs": [
    {
     "data": {
      "text/plain": [
       "[2, 4, 'hello', 8, 10]"
      ]
     },
     "execution_count": 1,
     "metadata": {},
     "output_type": "execute_result"
    }
   ],
   "source": [
    "spam = [2, 4, 6, 8, 10]\n",
    "spam[2] = 'hello'\n",
    "spam"
   ]
  },
  {
   "cell_type": "markdown",
   "id": "2ec01859",
   "metadata": {},
   "source": [
    "# Lets pretend the spam includes the list ['a', 'b','c','d'] for the next three queries"
   ]
  },
  {
   "cell_type": "markdown",
   "id": "50c81afe",
   "metadata": {},
   "source": [
    "3. What is the value of spam[int(int('3' * 2) / 11)]?"
   ]
  },
  {
   "cell_type": "code",
   "execution_count": 2,
   "id": "074f9d69",
   "metadata": {},
   "outputs": [
    {
     "data": {
      "text/plain": [
       "'d'"
      ]
     },
     "execution_count": 2,
     "metadata": {},
     "output_type": "execute_result"
    }
   ],
   "source": [
    "#Ans.\n",
    "spam = ['a', 'b','c','d']\n",
    "spam[int(int('3' * 2) / 11)]       # spam[int(int('3' * 2) / 11)]\n",
    "                                   # spam[int(0.3)] \n",
    "                                   # spam[3]"
   ]
  },
  {
   "cell_type": "markdown",
   "id": "f27908e8",
   "metadata": {},
   "source": [
    "4. What is the value of spam[-1]?"
   ]
  },
  {
   "cell_type": "code",
   "execution_count": 3,
   "id": "487d91a0",
   "metadata": {},
   "outputs": [
    {
     "data": {
      "text/plain": [
       "'d'"
      ]
     },
     "execution_count": 3,
     "metadata": {},
     "output_type": "execute_result"
    }
   ],
   "source": [
    "#Ans.\n",
    "spam = ['a', 'b','c','d']\n",
    "spam[-1]"
   ]
  },
  {
   "cell_type": "markdown",
   "id": "c779f2b2",
   "metadata": {},
   "source": [
    "5. What is the value of spam[:2]?"
   ]
  },
  {
   "cell_type": "code",
   "execution_count": 4,
   "id": "92f6a861",
   "metadata": {},
   "outputs": [
    {
     "data": {
      "text/plain": [
       "['a', 'b']"
      ]
     },
     "execution_count": 4,
     "metadata": {},
     "output_type": "execute_result"
    }
   ],
   "source": [
    "#Ans.\n",
    "spam = ['a', 'b','c','d']\n",
    "spam[:2]"
   ]
  },
  {
   "cell_type": "markdown",
   "id": "ac66b6f3",
   "metadata": {},
   "source": [
    "# Let's pretend bacon has the list [3.14, 'cat',' 11','cat',  True] for the next three questions."
   ]
  },
  {
   "cell_type": "markdown",
   "id": "85b54f89",
   "metadata": {},
   "source": [
    "6. What is the value of bacon.index('cat')?"
   ]
  },
  {
   "cell_type": "code",
   "execution_count": 5,
   "id": "87ac57ec",
   "metadata": {},
   "outputs": [
    {
     "data": {
      "text/plain": [
       "1"
      ]
     },
     "execution_count": 5,
     "metadata": {},
     "output_type": "execute_result"
    }
   ],
   "source": [
    " bacon=[3.14, 'cat',' 11','cat', True]\n",
    "bacon.index('cat')           # when item present more than one time, it give the first occured index."
   ]
  },
  {
   "cell_type": "markdown",
   "id": "456a701d",
   "metadata": {},
   "source": [
    "7. How does bacon.append(99) change the look of the list value in bacon?"
   ]
  },
  {
   "cell_type": "code",
   "execution_count": 6,
   "id": "2a911022",
   "metadata": {},
   "outputs": [
    {
     "data": {
      "text/plain": [
       "[3.14, 'cat', ' 11', 'cat', True, 99]"
      ]
     },
     "execution_count": 6,
     "metadata": {},
     "output_type": "execute_result"
    }
   ],
   "source": [
    "#Ans.\n",
    "bacon=[3.14, 'cat',' 11','cat', True]\n",
    "bacon.append(99) \n",
    "bacon"
   ]
  },
  {
   "cell_type": "markdown",
   "id": "5200aa80",
   "metadata": {},
   "source": [
    "8. How does bacon.remove('cat') change the look of the list in bacon?"
   ]
  },
  {
   "cell_type": "code",
   "execution_count": 7,
   "id": "cbaf98e4",
   "metadata": {},
   "outputs": [
    {
     "data": {
      "text/plain": [
       "[3.14, ' 11', 'cat', True]"
      ]
     },
     "execution_count": 7,
     "metadata": {},
     "output_type": "execute_result"
    }
   ],
   "source": [
    "#Ans.\n",
    "bacon=[3.14, 'cat',' 11','cat', True]\n",
    "bacon.remove('cat')           # removes the first index 'cat'\n",
    "bacon"
   ]
  },
  {
   "cell_type": "markdown",
   "id": "78383a2f",
   "metadata": {},
   "source": [
    "9. What are the list concatenation and list replication operators?"
   ]
  },
  {
   "cell_type": "code",
   "execution_count": 8,
   "id": "bf658f7e",
   "metadata": {},
   "outputs": [
    {
     "data": {
      "text/plain": [
       "['mudit', 'anurag', 22, 5, 'books', 'india', 19, 8]"
      ]
     },
     "execution_count": 8,
     "metadata": {},
     "output_type": "execute_result"
    }
   ],
   "source": [
    "#Ans.\n",
    "# add (+) operatoe use for cancatenation of 2 list.\n",
    "a=['mudit','anurag', 22, 5]\n",
    "b=['books','india', 19,8]\n",
    "a+b"
   ]
  },
  {
   "cell_type": "code",
   "execution_count": null,
   "id": "704e3754",
   "metadata": {},
   "outputs": [],
   "source": [
    "# multiplication (*) operatoe use for replication of list.\n",
    "a=[\"India\",50, \"USA\", ]*3\n",
    "a"
   ]
  },
  {
   "cell_type": "markdown",
   "id": "4821f960",
   "metadata": {},
   "source": [
    "10. What is difference between the list methods append() and insert()?"
   ]
  },
  {
   "cell_type": "code",
   "execution_count": 9,
   "id": "96292225",
   "metadata": {},
   "outputs": [
    {
     "data": {
      "text/plain": [
       "[2, 3, 4, 5, 6, 'hello']"
      ]
     },
     "execution_count": 9,
     "metadata": {},
     "output_type": "execute_result"
    }
   ],
   "source": [
    "#Ans.\n",
    "#list.append() adds at the end of list.\n",
    "a= [2,3,4,5,6]\n",
    "a.append(\"hello\")\n",
    "a"
   ]
  },
  {
   "cell_type": "code",
   "execution_count": 10,
   "id": "64f3c8de",
   "metadata": {},
   "outputs": [
    {
     "data": {
      "text/plain": [
       "['hello', 2, 3, 4, 5, 6]"
      ]
     },
     "execution_count": 10,
     "metadata": {},
     "output_type": "execute_result"
    }
   ],
   "source": [
    "#insert() can add anywhere in the list\n",
    "a= [2,3,4,5,6]\n",
    "a.insert(0,'hello') #insert at the given index only.\n",
    "a"
   ]
  },
  {
   "cell_type": "markdown",
   "id": "5d00465a",
   "metadata": {},
   "source": [
    "11. What are the two methods for removing items from a list?"
   ]
  },
  {
   "cell_type": "code",
   "execution_count": 11,
   "id": "7d944b38",
   "metadata": {},
   "outputs": [
    {
     "data": {
      "text/plain": [
       "[2, 4, 5, 6, 5]"
      ]
     },
     "execution_count": 11,
     "metadata": {},
     "output_type": "execute_result"
    }
   ],
   "source": [
    "#Ans.\n",
    "#list.pop removes from the end of list\n",
    "a=[2,4,5,6,5, 'hello']\n",
    "a.pop()                       \n",
    "a\n"
   ]
  },
  {
   "cell_type": "code",
   "execution_count": 12,
   "id": "647f7fc4",
   "metadata": {},
   "outputs": [
    {
     "data": {
      "text/plain": [
       "[2, 5, 6, 5, 'hello']"
      ]
     },
     "execution_count": 12,
     "metadata": {},
     "output_type": "execute_result"
    }
   ],
   "source": [
    "#list.remove removes form anywhere we want.\n",
    "a=[2,4,5,6,5, 'hello']\n",
    "a.remove(4)\n",
    "a"
   ]
  },
  {
   "cell_type": "markdown",
   "id": "6f7cf56a",
   "metadata": {},
   "source": [
    "12. Describe how list values and string values are identical."
   ]
  },
  {
   "cell_type": "raw",
   "id": "7d0a5f0a",
   "metadata": {},
   "source": [
    "#Ans.\n",
    "both has same way of index slicing,\n",
    "same len() function.\n",
    "same way of concatenation and replication.\n",
    "both can be use in loop."
   ]
  },
  {
   "cell_type": "markdown",
   "id": "48bb6c2e",
   "metadata": {},
   "source": [
    "13. What's the difference between tuples and lists?"
   ]
  },
  {
   "cell_type": "raw",
   "id": "50d0469b",
   "metadata": {},
   "source": [
    "#Ans. \n",
    "Both list and tuples are containers to store the value of any data type.\n",
    "but only difference is that list is mutuable while tuple is an immutable data type.\n",
    "Once the elements assined in a tuple it cant be altared by anyway.\n",
    "tuple= (1,2,3)\n",
    "list=[1,2,3]"
   ]
  },
  {
   "cell_type": "markdown",
   "id": "2c95d9bb",
   "metadata": {},
   "source": [
    "14. How do you type a tuple value that only contains the integer 42?"
   ]
  },
  {
   "cell_type": "code",
   "execution_count": 13,
   "id": "06678777",
   "metadata": {},
   "outputs": [
    {
     "data": {
      "text/plain": [
       "(42,)"
      ]
     },
     "execution_count": 13,
     "metadata": {},
     "output_type": "execute_result"
    }
   ],
   "source": [
    "tuple = (42,)\n",
    "tuple"
   ]
  },
  {
   "cell_type": "markdown",
   "id": "ac519caa",
   "metadata": {},
   "source": [
    "15. How do you get a list value's tuple form? How do you get a tuple value's list form?"
   ]
  },
  {
   "cell_type": "code",
   "execution_count": 14,
   "id": "0c787c21",
   "metadata": {},
   "outputs": [
    {
     "data": {
      "text/plain": [
       "[2, 3, 4]"
      ]
     },
     "execution_count": 14,
     "metadata": {},
     "output_type": "execute_result"
    }
   ],
   "source": [
    "#tuple value in list\n",
    "a= (2,3,4)\n",
    "s=list(a)\n",
    "s\n"
   ]
  },
  {
   "cell_type": "code",
   "execution_count": 1,
   "id": "306d86d0",
   "metadata": {},
   "outputs": [
    {
     "data": {
      "text/plain": [
       "('mudit', 'hello')"
      ]
     },
     "execution_count": 1,
     "metadata": {},
     "output_type": "execute_result"
    }
   ],
   "source": [
    "#list value in tuple\n",
    "b= ['mudit', 'hello']\n",
    "c=tuple(b)\n",
    "c"
   ]
  },
  {
   "cell_type": "markdown",
   "id": "7a8a2521",
   "metadata": {},
   "source": [
    "16. Variables that &quot;contain&quot; list values are not necessarily lists themselves. Instead, what do they\n",
    "contain?"
   ]
  },
  {
   "cell_type": "raw",
   "id": "7c906a99",
   "metadata": {},
   "source": [
    "#Ans.\n",
    "It contain refrence to list value."
   ]
  },
  {
   "cell_type": "markdown",
   "id": "520dc5e0",
   "metadata": {},
   "source": [
    "17. How do you distinguish between copy.copy() and copy.deepcopy()?"
   ]
  },
  {
   "cell_type": "raw",
   "id": "9677a8d8",
   "metadata": {},
   "source": [
    "#Ans.\n",
    "The copy.copy() will do shallow copy of the list.\n",
    "The copy.deepcopy() will do deep copy of the list."
   ]
  }
 ],
 "metadata": {
  "kernelspec": {
   "display_name": "Python 3 (ipykernel)",
   "language": "python",
   "name": "python3"
  },
  "language_info": {
   "codemirror_mode": {
    "name": "ipython",
    "version": 3
   },
   "file_extension": ".py",
   "mimetype": "text/x-python",
   "name": "python",
   "nbconvert_exporter": "python",
   "pygments_lexer": "ipython3",
   "version": "3.9.12"
  }
 },
 "nbformat": 4,
 "nbformat_minor": 5
}
