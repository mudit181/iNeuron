{
 "cells": [
  {
   "cell_type": "markdown",
   "id": "87a8d6ab",
   "metadata": {},
   "source": [
    "1. What does RGBA stand for?"
   ]
  },
  {
   "cell_type": "markdown",
   "id": "edebb8c0",
   "metadata": {},
   "source": [
    "#Ans.\n",
    "\n",
    "RGBA stands for red, green, blue, alpha.\n",
    "It is 3 channel RGB color model supplemented with a fourth alpha channel. "
   ]
  },
  {
   "cell_type": "markdown",
   "id": "59005d93",
   "metadata": {},
   "source": [
    "-------------------------------------------------"
   ]
  },
  {
   "cell_type": "markdown",
   "id": "2a2b6101",
   "metadata": {},
   "source": [
    "2. From the Pillow module, how do you get the RGBA value of any images?"
   ]
  },
  {
   "cell_type": "raw",
   "id": "e0fb77a6",
   "metadata": {},
   "source": [
    "#Ans.\n",
    "\n",
    "from PIL import Image\n",
    "img = Image.open(\"image.png\")\n",
    "rgba = img.convert(\"RGBA\")        #open any image and get the RAGBAG values.\n",
    "datas = rgba.getdata()              \n",
    "newData = []\n",
    "\n",
    "for item in datas:\n",
    "    if item[0] == 0 and item[1] == 0 and item[2] == 0:\n",
    "        newData.append((255, 255, 255, 0))        # new RGBA value for that color to change.\n",
    "        \n",
    "rgba.putdata(newData)\n",
    "\n",
    "rgba.save(\"transparent_image.png\", \"PNG\")     #save the image as a png format"
   ]
  },
  {
   "cell_type": "markdown",
   "id": "a150a641",
   "metadata": {},
   "source": [
    "-----------------------------------------"
   ]
  },
  {
   "cell_type": "markdown",
   "id": "b1bedb07",
   "metadata": {},
   "source": [
    "3. What is a box tuple, and how does it work?"
   ]
  },
  {
   "cell_type": "markdown",
   "id": "388e088b",
   "metadata": {},
   "source": [
    "#Ans.\n",
    "\n",
    "A box tuple is a tuple value of four integers: the left-edge x-coordinate, the top-edge y-coordinate, the width, and the height, respectively."
   ]
  },
  {
   "cell_type": "markdown",
   "id": "24ef7fca",
   "metadata": {},
   "source": [
    "--------------------------------------------------"
   ]
  },
  {
   "cell_type": "markdown",
   "id": "97f5a061",
   "metadata": {},
   "source": [
    "4. Use your image and load in notebook then, How can you find out the width and height of an\n",
    "Image object?"
   ]
  },
  {
   "cell_type": "code",
   "execution_count": 14,
   "id": "ad9d918e",
   "metadata": {},
   "outputs": [
    {
     "name": "stdout",
     "output_type": "stream",
     "text": [
      "The height of the image is:  1105\n",
      "The width of the image is:  1848\n"
     ]
    }
   ],
   "source": [
    "from IPython.display import Image\n",
    "Image(filename='GOT.jpg')\n",
    "img.show()\n",
    "\n",
    "\n",
    "width = img.width\n",
    "height = img.height\n",
    "  \n",
    "print(\"The height of the image is: \", height)\n",
    "print(\"The width of the image is: \", width)"
   ]
  },
  {
   "cell_type": "markdown",
   "id": "dc6c9f33",
   "metadata": {},
   "source": [
    "5. What method would you call to get Image object for a 100×100 image, excluding the lower-left\n",
    "quarter of it?"
   ]
  },
  {
   "cell_type": "code",
   "execution_count": 61,
   "id": "134c3c65",
   "metadata": {},
   "outputs": [
    {
     "name": "stdout",
     "output_type": "stream",
     "text": [
      "(100, 100)\n"
     ]
    }
   ],
   "source": [
    "img = Image.open('git.jpg')\n",
    "\n",
    "cropped = img.crop((0,0,100,100))\n",
    "cropped.show()\n",
    "print(cropped.size)"
   ]
  },
  {
   "cell_type": "markdown",
   "id": "ef8c6961",
   "metadata": {},
   "source": [
    "6. After making changes to an Image object, how could you save it as an image file?"
   ]
  },
  {
   "cell_type": "code",
   "execution_count": 60,
   "id": "4ad232de",
   "metadata": {},
   "outputs": [
    {
     "name": "stdout",
     "output_type": "stream",
     "text": [
      "(100, 100)\n"
     ]
    }
   ],
   "source": [
    "#Ans.\n",
    "img = Image.open('GOT.jpg')\n",
    "cropped = img.crop((0,0,100,100))\n",
    "cropped.show()\n",
    "print(cropped.size)\n",
    "cropped.save('newGOT.jpg') # .save statement save the changes done by above code block.\n"
   ]
  },
  {
   "cell_type": "markdown",
   "id": "797c909b",
   "metadata": {},
   "source": [
    "7. What module contains Pillow’s shape-drawing code?"
   ]
  },
  {
   "cell_type": "code",
   "execution_count": 58,
   "id": "059456e7",
   "metadata": {},
   "outputs": [],
   "source": [
    "#Ans.\n",
    "# ImageDraw module contains code to draw on images.\n",
    "from PIL import Image, ImageDraw"
   ]
  },
  {
   "cell_type": "markdown",
   "id": "b2754ba8",
   "metadata": {},
   "source": [
    "8. Image objects do not have drawing methods. What kind of object does? How do you get this kind\n",
    "of object?"
   ]
  },
  {
   "cell_type": "markdown",
   "id": "4a9837c3",
   "metadata": {},
   "source": [
    "#Ans.\n",
    "\n",
    "ImageDraw objects have shape-drawing methods such as point(), line(), or rectangle(). They are returned by passing the Image object to the ImageDraw.Draw().\n",
    "    "
   ]
  },
  {
   "cell_type": "code",
   "execution_count": null,
   "id": "a85a80fb",
   "metadata": {},
   "outputs": [],
   "source": []
  }
 ],
 "metadata": {
  "kernelspec": {
   "display_name": "Python 3 (ipykernel)",
   "language": "python",
   "name": "python3"
  },
  "language_info": {
   "codemirror_mode": {
    "name": "ipython",
    "version": 3
   },
   "file_extension": ".py",
   "mimetype": "text/x-python",
   "name": "python",
   "nbconvert_exporter": "python",
   "pygments_lexer": "ipython3",
   "version": "3.9.12"
  }
 },
 "nbformat": 4,
 "nbformat_minor": 5
}
