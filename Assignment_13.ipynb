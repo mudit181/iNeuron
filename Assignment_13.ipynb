{
 "cells": [
  {
   "cell_type": "markdown",
   "id": "76023b56",
   "metadata": {},
   "source": [
    "1. What advantages do Excel spreadsheets have over CSV spreadsheets?"
   ]
  },
  {
   "cell_type": "raw",
   "id": "530fe67d",
   "metadata": {},
   "source": [
    "#Ans.\n",
    "In CSV(comma-separated values) the data is in text format separated by commas also can not store data in different formats.\n",
    "In Excel, spreadsheets can have values of datatypes other than strings; cells can have different fonts, sizes, or color settings. Cells can have varying widths and heights; adjecent cells can be merged; and we can embed images and charts."
   ]
  },
  {
   "cell_type": "markdown",
   "id": "56dce200",
   "metadata": {},
   "source": [
    "--------------------------------------"
   ]
  },
  {
   "cell_type": "markdown",
   "id": "4abf0c2e",
   "metadata": {},
   "source": [
    "2.What do you pass to csv.reader() and csv.writer() to create reader and writer objects?"
   ]
  },
  {
   "cell_type": "raw",
   "id": "af714cec",
   "metadata": {},
   "source": [
    "#Ans.\n",
    "file object, obtained from call to open()."
   ]
  },
  {
   "cell_type": "markdown",
   "id": "07163de1",
   "metadata": {},
   "source": [
    "-------------------------------------"
   ]
  },
  {
   "cell_type": "markdown",
   "id": "8de2bcff",
   "metadata": {},
   "source": [
    "3. What modes do File objects for reader and writer objects need to be opened in?"
   ]
  },
  {
   "cell_type": "raw",
   "id": "010616b7",
   "metadata": {},
   "source": [
    "#Ans.\n",
    "File objects need to be opened in read-binary ('rb') for reader objects and write-binary ('wb') fro writer objects"
   ]
  },
  {
   "cell_type": "markdown",
   "id": "bef52185",
   "metadata": {},
   "source": [
    "-----------------------------"
   ]
  },
  {
   "cell_type": "markdown",
   "id": "93b266a9",
   "metadata": {},
   "source": [
    "4. What method takes a list argument and writes it to a CSV file?"
   ]
  },
  {
   "cell_type": "raw",
   "id": "1e3baa63",
   "metadata": {},
   "source": [
    "#Ans.\n",
    "writerrow() method."
   ]
  },
  {
   "cell_type": "markdown",
   "id": "95faa295",
   "metadata": {},
   "source": [
    "--------------------------------"
   ]
  },
  {
   "cell_type": "markdown",
   "id": "52992c17",
   "metadata": {},
   "source": [
    "5. What do the keyword arguments delimiter and line terminator do?"
   ]
  },
  {
   "cell_type": "raw",
   "id": "f16344b9",
   "metadata": {},
   "source": [
    "#Ans.\n",
    "The delimeter argument change the string used to separate cells in a row.\n",
    "The lineterminator argument changes the string used to separate rows."
   ]
  },
  {
   "cell_type": "markdown",
   "id": "a27fdf0b",
   "metadata": {},
   "source": [
    "---------------------------------------"
   ]
  },
  {
   "cell_type": "markdown",
   "id": "b7c85ce9",
   "metadata": {},
   "source": [
    "6. What function takes a string of JSON data and returns a Python data structure?"
   ]
  },
  {
   "cell_type": "raw",
   "id": "47c57124",
   "metadata": {},
   "source": [
    "#Ans.\n",
    "import json\n",
    "json.loads()"
   ]
  },
  {
   "cell_type": "markdown",
   "id": "9ff09464",
   "metadata": {},
   "source": [
    "-------------------------------------------"
   ]
  },
  {
   "cell_type": "markdown",
   "id": "de519ddd",
   "metadata": {},
   "source": [
    "7. What function takes a Python data structure and returns a string of JSON data?"
   ]
  },
  {
   "cell_type": "raw",
   "id": "3f33a780",
   "metadata": {},
   "source": [
    "#Ans.\n",
    "import json\n",
    "json.dumps()"
   ]
  }
 ],
 "metadata": {
  "kernelspec": {
   "display_name": "Python 3 (ipykernel)",
   "language": "python",
   "name": "python3"
  },
  "language_info": {
   "codemirror_mode": {
    "name": "ipython",
    "version": 3
   },
   "file_extension": ".py",
   "mimetype": "text/x-python",
   "name": "python",
   "nbconvert_exporter": "python",
   "pygments_lexer": "ipython3",
   "version": "3.9.12"
  }
 },
 "nbformat": 4,
 "nbformat_minor": 5
}
