{
 "cells": [
  {
   "cell_type": "raw",
   "id": "44406510",
   "metadata": {},
   "source": [
    "1.What are the two values of the Boolean data type? How do you write them?\n",
    "Ans.\n",
    "True and False are boolean data type.\n",
    "T abd F are should be capital letter otherwise it return error.\n",
    "Example:\n",
    "a = true ( name Error)\n",
    "a = True (a will return True)"
   ]
  },
  {
   "cell_type": "raw",
   "id": "899e8446",
   "metadata": {},
   "source": [
    "2. What are the three different types of Boolean operators?\n",
    "Ans.\n",
    "and,or,not\n"
   ]
  },
  {
   "cell_type": "raw",
   "id": "6152d0c4",
   "metadata": {},
   "source": [
    "3. Make a list of each Boolean operator's truth tables (i.e. every possible combination of Boolean\n",
    "values for the operator and what it evaluate ).\n",
    "Ans.\n",
    "True and False  gives False\n",
    "True and True   gives True\n",
    "False and False gives False\n",
    "\n",
    "True or True    gives True\n",
    "True or False   gives True\n",
    "False or False  gives False\n",
    "\n",
    "not True        gives False\n",
    "not False       gives True"
   ]
  },
  {
   "cell_type": "raw",
   "id": "64b5c9df",
   "metadata": {},
   "source": [
    "4. What are the values of the following expressions?\n",
    "Ans.\n",
    "(5 > 4) and (3 == 5)              gives False\n",
    "not (5 > 4)                       gives False\n",
    "(5 > 4) or (3 == 5)               gives True\n",
    "not ((5 > 4) or (3 == 5))         gives False\n",
    "(True and True) and (True == False) gives False\n",
    "(not False) or (not True)          gives True"
   ]
  },
  {
   "cell_type": "raw",
   "id": "c66e2e30",
   "metadata": {},
   "source": [
    "5. What are the six comparison operators?\n",
    "Ans.\n",
    "<\n",
    ">\n",
    "==\n",
    "<=\n",
    ">=\n",
    "!=\n"
   ]
  },
  {
   "cell_type": "raw",
   "id": "18b51dcb",
   "metadata": {},
   "source": [
    "6. How do you tell the difference between the equal to and assignment operators?Describe a\n",
    "condition and when you would use one.\n",
    "Ans.\n",
    "== is an comparision operator for the  two same values and it return as boolean.\n",
    "= is an assinment operator which assine any value into an object.\n",
    "eg: \n",
    "a= 5 ( it will resut as integer 5 of a variable a.)\n",
    "a==5 (it will result as bool value i.e True)\n",
    "\n",
    "CONDITION:\n",
    "we will go to market if it wont rain.(In this statrement a decision depends upon a condition to go the market)\n",
    "similerly in python, statement depends upon a certain condition to execute value, for which if,elif and else are used.\n",
    "\n",
    "a condition is use when out of 2 or more statement one is true ather is false.\n",
    "eg:"
   ]
  },
  {
   "cell_type": "code",
   "execution_count": 1,
   "id": "6b704b92",
   "metadata": {},
   "outputs": [
    {
     "name": "stdout",
     "output_type": "stream",
     "text": [
      "False\n"
     ]
    }
   ],
   "source": [
    "if 10 < 5:\n",
    "    print(True)\n",
    "else:\n",
    "    print(False)\n"
   ]
  },
  {
   "cell_type": "code",
   "execution_count": 2,
   "id": "ad94f238",
   "metadata": {},
   "outputs": [
    {
     "name": "stdout",
     "output_type": "stream",
     "text": [
      "ham\n",
      "spam\n",
      "spam\n"
     ]
    }
   ],
   "source": [
    "# 7. Identify the three blocks in this code:\n",
    "spam = 0\n",
    "if spam == 10:\n",
    "    print(\"eggs\")        #block 1\n",
    "\n",
    "if spam > 5:\n",
    "    print('bacon')       #block 2\n",
    "else:\n",
    "    print('ham')         #block 3\n",
    "    print('spam')\n",
    "    print('spam')"
   ]
  },
  {
   "cell_type": "markdown",
   "id": "7f9a8d31",
   "metadata": {},
   "source": [
    "8. Write code that prints Hello if 1 is stored in spam, prints Howdy if 2 is stored in spam, and prints\n",
    " Greetings! if anything else is stored in spam\n",
    "\n",
    "\n",
    "        "
   ]
  },
  {
   "cell_type": "code",
   "execution_count": 4,
   "id": "9e7a2674",
   "metadata": {},
   "outputs": [
    {
     "name": "stdout",
     "output_type": "stream",
     "text": [
      "enter the spam number 5\n",
      "Greetings!\n"
     ]
    }
   ],
   "source": [
    "#Ans.\n",
    "spam = int(input('enter the spam number '))\n",
    "if spam ==1:\n",
    "    print('Hello')\n",
    "elif spam ==2:\n",
    "     print('Howdy')\n",
    "else:\n",
    "     print('Greetings!')\n",
    "        "
   ]
  },
  {
   "cell_type": "raw",
   "id": "d05e91f6",
   "metadata": {},
   "source": [
    "9.If your programme is stuck in an endless loop, what keys you’ll press?\n",
    "\n",
    "Ans.\n",
    "ctrl + c"
   ]
  },
  {
   "cell_type": "markdown",
   "id": "7d6becd8",
   "metadata": {},
   "source": [
    "10. How can you tell the difference between break and continue?\n",
    "\n",
    "    \n"
   ]
  },
  {
   "cell_type": "code",
   "execution_count": 4,
   "id": "1b186354",
   "metadata": {},
   "outputs": [
    {
     "name": "stdout",
     "output_type": "stream",
     "text": [
      "0\n",
      "1\n",
      "2\n",
      "3\n",
      "4\n",
      "5\n",
      "6\n",
      "stop\n",
      "0\n",
      "1\n",
      "2\n",
      "3\n",
      "4\n",
      "5\n",
      "6\n",
      "7\n",
      "8\n",
      "9\n"
     ]
    }
   ],
   "source": [
    "#Ans.\n",
    "for i in range (10):\n",
    "    print(i)\n",
    "    if i == 6:\n",
    "         break\n",
    "print('stop')\n",
    "\n",
    "for i in range(10):\n",
    "    print(i)\n",
    "    if i == 6:\n",
    "        continue\n",
    "        "
   ]
  },
  {
   "cell_type": "markdown",
   "id": "bcda8ebd",
   "metadata": {},
   "source": [
    "11. In a for loop, what is the difference between range(10), range(0, 10), and range(0, 10, 1)?"
   ]
  },
  {
   "cell_type": "code",
   "execution_count": 11,
   "id": "955c3f3d",
   "metadata": {},
   "outputs": [
    {
     "name": "stdout",
     "output_type": "stream",
     "text": [
      "0\n",
      "1\n",
      "2\n",
      "3\n",
      "4\n",
      "5\n",
      "6\n",
      "7\n",
      "8\n",
      "9\n",
      "stop\n",
      "0\n",
      "1\n",
      "2\n",
      "3\n",
      "4\n",
      "5\n",
      "6\n",
      "7\n",
      "8\n",
      "9\n",
      "stop\n",
      "0\n",
      "1\n",
      "2\n",
      "3\n",
      "4\n",
      "5\n",
      "6\n",
      "7\n",
      "8\n",
      "9\n"
     ]
    }
   ],
   "source": [
    "for i in range(10):       #if no index in mention it is consider as 0.                \n",
    "    print(i)\n",
    "print('stop')\n",
    "    \n",
    "    \n",
    "for i in range(0,10):      # the result will be same but if index were (2,10) result print from 2\n",
    "    print(i)\n",
    "print('stop')\n",
    "    \n",
    "    \n",
    "for i in range(0,10,1):   #  slicing with 1 gives return the same value, if slice with 2 result print as 0,2,4,6,8\n",
    "    print(i)"
   ]
  },
  {
   "cell_type": "markdown",
   "id": "f2385156",
   "metadata": {},
   "source": [
    "12. Write a short program that prints the numbers 1 to 10 using a for loop. Then write an equivalent\n",
    "program that prints the numbers 1 to 10 using a while loop."
   ]
  },
  {
   "cell_type": "code",
   "execution_count": 12,
   "id": "50db5074",
   "metadata": {},
   "outputs": [
    {
     "name": "stdout",
     "output_type": "stream",
     "text": [
      "1\n",
      "2\n",
      "3\n",
      "4\n",
      "5\n",
      "6\n",
      "7\n",
      "8\n",
      "9\n",
      "10\n"
     ]
    }
   ],
   "source": [
    "#while loop\n",
    "i=1\n",
    "while i <= 10:\n",
    "    print(i)\n",
    "    i=i+1"
   ]
  },
  {
   "cell_type": "code",
   "execution_count": 14,
   "id": "7463bb34",
   "metadata": {},
   "outputs": [
    {
     "name": "stdout",
     "output_type": "stream",
     "text": [
      "1\n",
      "2\n",
      "3\n",
      "4\n",
      "5\n",
      "6\n",
      "7\n",
      "8\n",
      "9\n",
      "10\n"
     ]
    }
   ],
   "source": [
    "#for loop\n",
    "for i in range (1,11):\n",
    "    print(i)\n"
   ]
  },
  {
   "cell_type": "raw",
   "id": "0daf8178",
   "metadata": {},
   "source": [
    "13. If you had a function named bacon() inside a module named spam, how would you call it after\n",
    "importing spam?\n",
    "Ans.\n",
    "spam.bacon()"
   ]
  }
 ],
 "metadata": {
  "kernelspec": {
   "display_name": "Python 3 (ipykernel)",
   "language": "python",
   "name": "python3"
  },
  "language_info": {
   "codemirror_mode": {
    "name": "ipython",
    "version": 3
   },
   "file_extension": ".py",
   "mimetype": "text/x-python",
   "name": "python",
   "nbconvert_exporter": "python",
   "pygments_lexer": "ipython3",
   "version": "3.9.12"
  }
 },
 "nbformat": 4,
 "nbformat_minor": 5
}
